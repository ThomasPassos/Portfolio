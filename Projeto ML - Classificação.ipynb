{
 "cells": [
  {
   "cell_type": "markdown",
   "id": "99c3899b",
   "metadata": {
    "jupyter": {
     "source_hidden": true
    },
    "tags": []
   },
   "source": [
    "# Projeto de Machine Learning: Classificação - Vitítimas do Titanic\n",
    "#### Esse projeto tem como objetivo classificar se alguém sobreviveu ou não ao desastre do Titanic, através de modelos de classificação, a base de dados utilizada pode ser encontrada no site Kaggle: https://www.kaggle.com/competitions/titanic\n"
   ]
  },
  {
   "cell_type": "markdown",
   "id": "e22b0d24",
   "metadata": {},
   "source": [
    "## Parte 1 - Preparação:"
   ]
  },
  {
   "cell_type": "markdown",
   "id": "c7d6f3fc",
   "metadata": {},
   "source": [
    "### Importando bibliotecas:"
   ]
  },
  {
   "cell_type": "code",
   "execution_count": 1,
   "id": "bd27f230",
   "metadata": {},
   "outputs": [],
   "source": [
    "import pandas as pd\n",
    "import numpy as np\n",
    "import matplotlib.pyplot as plt\n",
    "import seaborn as sns\n",
    "import joblib\n",
    "\n",
    "from sklearn.model_selection import train_test_split, GridSearchCV\n",
    "from sklearn.impute import SimpleImputer\n",
    "from sklearn.preprocessing import MinMaxScaler, OneHotEncoder\n",
    "from sklearn.compose import ColumnTransformer\n",
    "\n",
    "from sklearn.linear_model import LogisticRegression\n",
    "from sklearn.ensemble import RandomForestClassifier\n",
    "from sklearn.metrics import confusion_matrix, f1_score, make_scorer\n",
    "from sklearn.neighbors import KNeighborsClassifier"
   ]
  },
  {
   "cell_type": "markdown",
   "id": "86f30668",
   "metadata": {},
   "source": [
    "### Carregando dados:"
   ]
  },
  {
   "cell_type": "code",
   "execution_count": 2,
   "id": "bfc746fc",
   "metadata": {},
   "outputs": [],
   "source": [
    "train_df = pd.read_csv(r'C:\\Users\\Thomas\\Notebooks\\Planilhas\\train.csv')\n",
    "test_df = pd.read_csv(r'C:\\Users\\Thomas\\Notebooks\\Planilhas\\test.csv')"
   ]
  },
  {
   "cell_type": "code",
   "execution_count": 3,
   "id": "43fcdf1c",
   "metadata": {},
   "outputs": [
    {
     "data": {
      "text/html": [
       "<div>\n",
       "<style scoped>\n",
       "    .dataframe tbody tr th:only-of-type {\n",
       "        vertical-align: middle;\n",
       "    }\n",
       "\n",
       "    .dataframe tbody tr th {\n",
       "        vertical-align: top;\n",
       "    }\n",
       "\n",
       "    .dataframe thead th {\n",
       "        text-align: right;\n",
       "    }\n",
       "</style>\n",
       "<table border=\"1\" class=\"dataframe\">\n",
       "  <thead>\n",
       "    <tr style=\"text-align: right;\">\n",
       "      <th></th>\n",
       "      <th>PassengerId</th>\n",
       "      <th>Survived</th>\n",
       "      <th>Pclass</th>\n",
       "      <th>Name</th>\n",
       "      <th>Sex</th>\n",
       "      <th>Age</th>\n",
       "      <th>SibSp</th>\n",
       "      <th>Parch</th>\n",
       "      <th>Ticket</th>\n",
       "      <th>Fare</th>\n",
       "      <th>Cabin</th>\n",
       "      <th>Embarked</th>\n",
       "    </tr>\n",
       "  </thead>\n",
       "  <tbody>\n",
       "    <tr>\n",
       "      <th>0</th>\n",
       "      <td>1</td>\n",
       "      <td>0</td>\n",
       "      <td>3</td>\n",
       "      <td>Braund, Mr. Owen Harris</td>\n",
       "      <td>male</td>\n",
       "      <td>22.0</td>\n",
       "      <td>1</td>\n",
       "      <td>0</td>\n",
       "      <td>A/5 21171</td>\n",
       "      <td>7.2500</td>\n",
       "      <td>NaN</td>\n",
       "      <td>S</td>\n",
       "    </tr>\n",
       "    <tr>\n",
       "      <th>1</th>\n",
       "      <td>2</td>\n",
       "      <td>1</td>\n",
       "      <td>1</td>\n",
       "      <td>Cumings, Mrs. John Bradley (Florence Briggs Th...</td>\n",
       "      <td>female</td>\n",
       "      <td>38.0</td>\n",
       "      <td>1</td>\n",
       "      <td>0</td>\n",
       "      <td>PC 17599</td>\n",
       "      <td>71.2833</td>\n",
       "      <td>C85</td>\n",
       "      <td>C</td>\n",
       "    </tr>\n",
       "    <tr>\n",
       "      <th>2</th>\n",
       "      <td>3</td>\n",
       "      <td>1</td>\n",
       "      <td>3</td>\n",
       "      <td>Heikkinen, Miss. Laina</td>\n",
       "      <td>female</td>\n",
       "      <td>26.0</td>\n",
       "      <td>0</td>\n",
       "      <td>0</td>\n",
       "      <td>STON/O2. 3101282</td>\n",
       "      <td>7.9250</td>\n",
       "      <td>NaN</td>\n",
       "      <td>S</td>\n",
       "    </tr>\n",
       "    <tr>\n",
       "      <th>3</th>\n",
       "      <td>4</td>\n",
       "      <td>1</td>\n",
       "      <td>1</td>\n",
       "      <td>Futrelle, Mrs. Jacques Heath (Lily May Peel)</td>\n",
       "      <td>female</td>\n",
       "      <td>35.0</td>\n",
       "      <td>1</td>\n",
       "      <td>0</td>\n",
       "      <td>113803</td>\n",
       "      <td>53.1000</td>\n",
       "      <td>C123</td>\n",
       "      <td>S</td>\n",
       "    </tr>\n",
       "    <tr>\n",
       "      <th>4</th>\n",
       "      <td>5</td>\n",
       "      <td>0</td>\n",
       "      <td>3</td>\n",
       "      <td>Allen, Mr. William Henry</td>\n",
       "      <td>male</td>\n",
       "      <td>35.0</td>\n",
       "      <td>0</td>\n",
       "      <td>0</td>\n",
       "      <td>373450</td>\n",
       "      <td>8.0500</td>\n",
       "      <td>NaN</td>\n",
       "      <td>S</td>\n",
       "    </tr>\n",
       "  </tbody>\n",
       "</table>\n",
       "</div>"
      ],
      "text/plain": [
       "   PassengerId  Survived  Pclass  \\\n",
       "0            1         0       3   \n",
       "1            2         1       1   \n",
       "2            3         1       3   \n",
       "3            4         1       1   \n",
       "4            5         0       3   \n",
       "\n",
       "                                                Name     Sex   Age  SibSp  \\\n",
       "0                            Braund, Mr. Owen Harris    male  22.0      1   \n",
       "1  Cumings, Mrs. John Bradley (Florence Briggs Th...  female  38.0      1   \n",
       "2                             Heikkinen, Miss. Laina  female  26.0      0   \n",
       "3       Futrelle, Mrs. Jacques Heath (Lily May Peel)  female  35.0      1   \n",
       "4                           Allen, Mr. William Henry    male  35.0      0   \n",
       "\n",
       "   Parch            Ticket     Fare Cabin Embarked  \n",
       "0      0         A/5 21171   7.2500   NaN        S  \n",
       "1      0          PC 17599  71.2833   C85        C  \n",
       "2      0  STON/O2. 3101282   7.9250   NaN        S  \n",
       "3      0            113803  53.1000  C123        S  \n",
       "4      0            373450   8.0500   NaN        S  "
      ]
     },
     "execution_count": 3,
     "metadata": {},
     "output_type": "execute_result"
    }
   ],
   "source": [
    "train_df.head()"
   ]
  },
  {
   "cell_type": "markdown",
   "id": "f833dae3",
   "metadata": {},
   "source": [
    "## Parte 2 - Exploração dos dados:"
   ]
  },
  {
   "cell_type": "markdown",
   "id": "98c312a5",
   "metadata": {},
   "source": [
    "### Conhecendo os dados:"
   ]
  },
  {
   "cell_type": "code",
   "execution_count": 4,
   "id": "633ee3bd",
   "metadata": {
    "scrolled": true
   },
   "outputs": [
    {
     "data": {
      "text/html": [
       "<div>\n",
       "<style scoped>\n",
       "    .dataframe tbody tr th:only-of-type {\n",
       "        vertical-align: middle;\n",
       "    }\n",
       "\n",
       "    .dataframe tbody tr th {\n",
       "        vertical-align: top;\n",
       "    }\n",
       "\n",
       "    .dataframe thead th {\n",
       "        text-align: right;\n",
       "    }\n",
       "</style>\n",
       "<table border=\"1\" class=\"dataframe\">\n",
       "  <thead>\n",
       "    <tr style=\"text-align: right;\">\n",
       "      <th></th>\n",
       "      <th>PassengerId</th>\n",
       "      <th>Survived</th>\n",
       "      <th>Pclass</th>\n",
       "      <th>Age</th>\n",
       "      <th>SibSp</th>\n",
       "      <th>Parch</th>\n",
       "      <th>Fare</th>\n",
       "    </tr>\n",
       "  </thead>\n",
       "  <tbody>\n",
       "    <tr>\n",
       "      <th>count</th>\n",
       "      <td>891.000000</td>\n",
       "      <td>891.000000</td>\n",
       "      <td>891.000000</td>\n",
       "      <td>714.000000</td>\n",
       "      <td>891.000000</td>\n",
       "      <td>891.000000</td>\n",
       "      <td>891.000000</td>\n",
       "    </tr>\n",
       "    <tr>\n",
       "      <th>mean</th>\n",
       "      <td>446.000000</td>\n",
       "      <td>0.383838</td>\n",
       "      <td>2.308642</td>\n",
       "      <td>29.699118</td>\n",
       "      <td>0.523008</td>\n",
       "      <td>0.381594</td>\n",
       "      <td>32.204208</td>\n",
       "    </tr>\n",
       "    <tr>\n",
       "      <th>std</th>\n",
       "      <td>257.353842</td>\n",
       "      <td>0.486592</td>\n",
       "      <td>0.836071</td>\n",
       "      <td>14.526497</td>\n",
       "      <td>1.102743</td>\n",
       "      <td>0.806057</td>\n",
       "      <td>49.693429</td>\n",
       "    </tr>\n",
       "    <tr>\n",
       "      <th>min</th>\n",
       "      <td>1.000000</td>\n",
       "      <td>0.000000</td>\n",
       "      <td>1.000000</td>\n",
       "      <td>0.420000</td>\n",
       "      <td>0.000000</td>\n",
       "      <td>0.000000</td>\n",
       "      <td>0.000000</td>\n",
       "    </tr>\n",
       "    <tr>\n",
       "      <th>25%</th>\n",
       "      <td>223.500000</td>\n",
       "      <td>0.000000</td>\n",
       "      <td>2.000000</td>\n",
       "      <td>20.125000</td>\n",
       "      <td>0.000000</td>\n",
       "      <td>0.000000</td>\n",
       "      <td>7.910400</td>\n",
       "    </tr>\n",
       "    <tr>\n",
       "      <th>50%</th>\n",
       "      <td>446.000000</td>\n",
       "      <td>0.000000</td>\n",
       "      <td>3.000000</td>\n",
       "      <td>28.000000</td>\n",
       "      <td>0.000000</td>\n",
       "      <td>0.000000</td>\n",
       "      <td>14.454200</td>\n",
       "    </tr>\n",
       "    <tr>\n",
       "      <th>75%</th>\n",
       "      <td>668.500000</td>\n",
       "      <td>1.000000</td>\n",
       "      <td>3.000000</td>\n",
       "      <td>38.000000</td>\n",
       "      <td>1.000000</td>\n",
       "      <td>0.000000</td>\n",
       "      <td>31.000000</td>\n",
       "    </tr>\n",
       "    <tr>\n",
       "      <th>max</th>\n",
       "      <td>891.000000</td>\n",
       "      <td>1.000000</td>\n",
       "      <td>3.000000</td>\n",
       "      <td>80.000000</td>\n",
       "      <td>8.000000</td>\n",
       "      <td>6.000000</td>\n",
       "      <td>512.329200</td>\n",
       "    </tr>\n",
       "  </tbody>\n",
       "</table>\n",
       "</div>"
      ],
      "text/plain": [
       "       PassengerId    Survived      Pclass         Age       SibSp  \\\n",
       "count   891.000000  891.000000  891.000000  714.000000  891.000000   \n",
       "mean    446.000000    0.383838    2.308642   29.699118    0.523008   \n",
       "std     257.353842    0.486592    0.836071   14.526497    1.102743   \n",
       "min       1.000000    0.000000    1.000000    0.420000    0.000000   \n",
       "25%     223.500000    0.000000    2.000000   20.125000    0.000000   \n",
       "50%     446.000000    0.000000    3.000000   28.000000    0.000000   \n",
       "75%     668.500000    1.000000    3.000000   38.000000    1.000000   \n",
       "max     891.000000    1.000000    3.000000   80.000000    8.000000   \n",
       "\n",
       "            Parch        Fare  \n",
       "count  891.000000  891.000000  \n",
       "mean     0.381594   32.204208  \n",
       "std      0.806057   49.693429  \n",
       "min      0.000000    0.000000  \n",
       "25%      0.000000    7.910400  \n",
       "50%      0.000000   14.454200  \n",
       "75%      0.000000   31.000000  \n",
       "max      6.000000  512.329200  "
      ]
     },
     "execution_count": 4,
     "metadata": {},
     "output_type": "execute_result"
    }
   ],
   "source": [
    "train_df.describe()"
   ]
  },
  {
   "cell_type": "markdown",
   "id": "12d0de80",
   "metadata": {},
   "source": [
    "##### Um detalhe curioso é que no último quartil da coluna \"Fare\" há uma variação muito grande nos dados."
   ]
  },
  {
   "cell_type": "code",
   "execution_count": 5,
   "id": "a14fdc53",
   "metadata": {},
   "outputs": [
    {
     "name": "stdout",
     "output_type": "stream",
     "text": [
      "<class 'pandas.core.frame.DataFrame'>\n",
      "RangeIndex: 891 entries, 0 to 890\n",
      "Data columns (total 12 columns):\n",
      " #   Column       Non-Null Count  Dtype  \n",
      "---  ------       --------------  -----  \n",
      " 0   PassengerId  891 non-null    int64  \n",
      " 1   Survived     891 non-null    int64  \n",
      " 2   Pclass       891 non-null    int64  \n",
      " 3   Name         891 non-null    object \n",
      " 4   Sex          891 non-null    object \n",
      " 5   Age          714 non-null    float64\n",
      " 6   SibSp        891 non-null    int64  \n",
      " 7   Parch        891 non-null    int64  \n",
      " 8   Ticket       891 non-null    object \n",
      " 9   Fare         891 non-null    float64\n",
      " 10  Cabin        204 non-null    object \n",
      " 11  Embarked     889 non-null    object \n",
      "dtypes: float64(2), int64(5), object(5)\n",
      "memory usage: 83.7+ KB\n"
     ]
    }
   ],
   "source": [
    "train_df.info()"
   ]
  },
  {
   "cell_type": "code",
   "execution_count": 6,
   "id": "1cf62bf0",
   "metadata": {},
   "outputs": [
    {
     "data": {
      "text/plain": [
       "0    549\n",
       "1    342\n",
       "Name: Survived, dtype: int64"
      ]
     },
     "execution_count": 6,
     "metadata": {},
     "output_type": "execute_result"
    }
   ],
   "source": [
    "train_df['Survived'].value_counts()"
   ]
  },
  {
   "cell_type": "markdown",
   "id": "2c26df37",
   "metadata": {},
   "source": [
    "### Identificando os problemas do dataset:"
   ]
  },
  {
   "cell_type": "code",
   "execution_count": 7,
   "id": "effa54f6",
   "metadata": {},
   "outputs": [
    {
     "data": {
      "text/plain": [
       "PassengerId    0.000000\n",
       "Survived       0.000000\n",
       "Pclass         0.000000\n",
       "Name           0.000000\n",
       "Sex            0.000000\n",
       "Age            0.198653\n",
       "SibSp          0.000000\n",
       "Parch          0.000000\n",
       "Ticket         0.000000\n",
       "Fare           0.000000\n",
       "Cabin          0.771044\n",
       "Embarked       0.002245\n",
       "dtype: float64"
      ]
     },
     "execution_count": 7,
     "metadata": {},
     "output_type": "execute_result"
    }
   ],
   "source": [
    "train_df.isna().sum()/len(train_df) # % de dados faltando por coluna"
   ]
  },
  {
   "cell_type": "markdown",
   "id": "95ec2ed3",
   "metadata": {},
   "source": [
    "##### Observa-se que a maioria dos dados da coluna \"Cabin\" estão vazios, e vazios em pequenas porcentagens em \"Age\" and \"Embarked\"."
   ]
  },
  {
   "cell_type": "markdown",
   "id": "3dcf23ea",
   "metadata": {},
   "source": [
    "### Identificando correlações:"
   ]
  },
  {
   "cell_type": "code",
   "execution_count": 8,
   "id": "0b329156",
   "metadata": {
    "scrolled": true
   },
   "outputs": [
    {
     "data": {
      "text/plain": [
       "<AxesSubplot:xlabel='Survived', ylabel='Sex'>"
      ]
     },
     "execution_count": 8,
     "metadata": {},
     "output_type": "execute_result"
    },
    {
     "data": {
      "image/png": "[encoded data removed]",
      "text/plain": [
       "<Figure size 360x360 with 1 Axes>"
      ]
     },
     "metadata": {
      "needs_background": "light"
     },
     "output_type": "display_data"
    }
   ],
   "source": [
    "plt.figure(figsize=(5,5))\n",
    "sns.barplot(data=train_df, y = 'Sex', x = 'Survived')"
   ]
  },
  {
   "cell_type": "markdown",
   "id": "af274946",
   "metadata": {},
   "source": [
    "##### É evidente que ser mulher é um fator importante para explicar a sobrevivência."
   ]
  },
  {
   "cell_type": "code",
   "execution_count": 9,
   "id": "6e184911",
   "metadata": {
    "scrolled": true
   },
   "outputs": [
    {
     "data": {
      "text/plain": [
       "<AxesSubplot:xlabel='Survived', ylabel='Embarked'>"
      ]
     },
     "execution_count": 9,
     "metadata": {},
     "output_type": "execute_result"
    },
    {
     "data": {
      "image/png": "[encoded data removed]",
      "text/plain": [
       "<Figure size 360x360 with 1 Axes>"
      ]
     },
     "metadata": {
      "needs_background": "light"
     },
     "output_type": "display_data"
    }
   ],
   "source": [
    "plt.figure(figsize=(5,5))\n",
    "sns.barplot(data=train_df, y = 'Embarked', x = 'Survived')"
   ]
  },
  {
   "cell_type": "markdown",
   "id": "ceed4700",
   "metadata": {},
   "source": [
    "##### Os dados mostram que pessoas embarcadas em Cherbourg tem maior probabilidade de sobreviver."
   ]
  },
  {
   "cell_type": "code",
   "execution_count": 10,
   "id": "187b447d",
   "metadata": {
    "scrolled": true
   },
   "outputs": [
    {
     "data": {
      "text/plain": [
       "<AxesSubplot:xlabel='Pclass', ylabel='Survived'>"
      ]
     },
     "execution_count": 10,
     "metadata": {},
     "output_type": "execute_result"
    },
    {
     "data": {
      "image/png": "[encoded data removed]",
      "text/plain": [
       "<Figure size 360x360 with 1 Axes>"
      ]
     },
     "metadata": {
      "needs_background": "light"
     },
     "output_type": "display_data"
    }
   ],
   "source": [
    "plt.figure(figsize=(5,5))\n",
    "sns.barplot(data=train_df, x = 'Pclass', y = 'Survived')"
   ]
  },
  {
   "cell_type": "markdown",
   "id": "6538eba8",
   "metadata": {},
   "source": [
    "##### É possível identificar uma ordinalidade nessa feature, quanto menor o número da \"Pclass\" maior a probabilidade de sobreviver."
   ]
  },
  {
   "cell_type": "markdown",
   "id": "e4fd2ff6",
   "metadata": {},
   "source": [
    "## Parte 3 - Transformação dos dados:"
   ]
  },
  {
   "cell_type": "markdown",
   "id": "f25b3b4a",
   "metadata": {},
   "source": [
    "### Retirando colunas que não serão incluídas no modelo:"
   ]
  },
  {
   "cell_type": "code",
   "execution_count": 11,
   "id": "481158e2",
   "metadata": {},
   "outputs": [],
   "source": [
    "train_df.drop(['Name','Ticket','Cabin','PassengerId'],axis=1, inplace=True)"
   ]
  },
  {
   "cell_type": "markdown",
   "id": "0cb4fa2e",
   "metadata": {},
   "source": [
    "##### As colunas \"Name\", \"Ticket\" ,\"Cabin\" e \"PassengerId\" foram excluidas pois não serão de muita serventia ao modelo. "
   ]
  },
  {
   "cell_type": "markdown",
   "id": "f0c0e939",
   "metadata": {},
   "source": [
    "### Dividindo as colunas:"
   ]
  },
  {
   "cell_type": "markdown",
   "id": "74161ea0",
   "metadata": {},
   "source": [
    "#### Separando a feature alvo:"
   ]
  },
  {
   "cell_type": "code",
   "execution_count": 12,
   "id": "b715ce96",
   "metadata": {},
   "outputs": [],
   "source": [
    "y  = train_df['Survived']\n",
    "train_df.drop('Survived',axis=1,inplace=True)"
   ]
  },
  {
   "cell_type": "markdown",
   "id": "c0f6c116",
   "metadata": {},
   "source": [
    "#### Separando as colunas númericas e categóricas:"
   ]
  },
  {
   "cell_type": "code",
   "execution_count": 13,
   "id": "1230749e",
   "metadata": {},
   "outputs": [
    {
     "data": {
      "text/plain": [
       "['Pclass', 'Age', 'SibSp', 'Parch', 'Fare']"
      ]
     },
     "execution_count": 13,
     "metadata": {},
     "output_type": "execute_result"
    }
   ],
   "source": [
    "numeric_columns = train_df.select_dtypes(include=np.number).columns.to_list()\n",
    "numeric_columns"
   ]
  },
  {
   "cell_type": "code",
   "execution_count": 14,
   "id": "3fb33ee2",
   "metadata": {},
   "outputs": [
    {
     "data": {
      "text/plain": [
       "['Sex', 'Embarked']"
      ]
     },
     "execution_count": 14,
     "metadata": {},
     "output_type": "execute_result"
    }
   ],
   "source": [
    "categorical_columns = train_df.select_dtypes(include=object).columns.to_list()\n",
    "categorical_columns"
   ]
  },
  {
   "cell_type": "markdown",
   "id": "9edf9355",
   "metadata": {},
   "source": [
    "### Transformando as features categóricas ordinais:"
   ]
  },
  {
   "cell_type": "code",
   "execution_count": 15,
   "id": "ea197d91",
   "metadata": {},
   "outputs": [],
   "source": [
    "def ordinal_encoder_pclass(row): # Função para ordenar os valores de \"Pclass\"\n",
    "    if row == 3:\n",
    "        return 0\n",
    "    elif row == 2:\n",
    "        return 1\n",
    "    elif row == 1:\n",
    "        return 2\n",
    "    else:\n",
    "        return np.nan"
   ]
  },
  {
   "cell_type": "code",
   "execution_count": 16,
   "id": "1cf3409a",
   "metadata": {
    "scrolled": true
   },
   "outputs": [],
   "source": [
    "train_df['Pclass'] = train_df['Pclass'].apply(ordinal_encoder_pclass)"
   ]
  },
  {
   "cell_type": "code",
   "execution_count": 17,
   "id": "a3aa7db6",
   "metadata": {
    "scrolled": true
   },
   "outputs": [
    {
     "data": {
      "text/plain": [
       "0      0\n",
       "1      2\n",
       "2      0\n",
       "3      2\n",
       "4      0\n",
       "      ..\n",
       "886    1\n",
       "887    2\n",
       "888    0\n",
       "889    2\n",
       "890    0\n",
       "Name: Pclass, Length: 891, dtype: int64"
      ]
     },
     "execution_count": 17,
     "metadata": {},
     "output_type": "execute_result"
    }
   ],
   "source": [
    "train_df['Pclass']"
   ]
  },
  {
   "cell_type": "markdown",
   "id": "6cfe317d",
   "metadata": {},
   "source": [
    "##### \"Pclass\" é a única feature categórica ordinal que precisa ser preparada antes do modelo, \"SibSp\" e \"Parch\" já estão prontas para ser usadas no modelo."
   ]
  },
  {
   "cell_type": "markdown",
   "id": "6f791543",
   "metadata": {},
   "source": [
    "### Trabalhando as features númericas:"
   ]
  },
  {
   "cell_type": "code",
   "execution_count": 18,
   "id": "67c97c61",
   "metadata": {},
   "outputs": [
    {
     "data": {
      "text/html": [
       "<div>\n",
       "<style scoped>\n",
       "    .dataframe tbody tr th:only-of-type {\n",
       "        vertical-align: middle;\n",
       "    }\n",
       "\n",
       "    .dataframe tbody tr th {\n",
       "        vertical-align: top;\n",
       "    }\n",
       "\n",
       "    .dataframe thead th {\n",
       "        text-align: right;\n",
       "    }\n",
       "</style>\n",
       "<table border=\"1\" class=\"dataframe\">\n",
       "  <thead>\n",
       "    <tr style=\"text-align: right;\">\n",
       "      <th></th>\n",
       "      <th>Pclass</th>\n",
       "      <th>Sex</th>\n",
       "      <th>Age</th>\n",
       "      <th>SibSp</th>\n",
       "      <th>Parch</th>\n",
       "      <th>Fare</th>\n",
       "      <th>Embarked</th>\n",
       "    </tr>\n",
       "  </thead>\n",
       "  <tbody>\n",
       "    <tr>\n",
       "      <th>0</th>\n",
       "      <td>0</td>\n",
       "      <td>male</td>\n",
       "      <td>22.0</td>\n",
       "      <td>1</td>\n",
       "      <td>0</td>\n",
       "      <td>7.2500</td>\n",
       "      <td>S</td>\n",
       "    </tr>\n",
       "    <tr>\n",
       "      <th>1</th>\n",
       "      <td>2</td>\n",
       "      <td>female</td>\n",
       "      <td>38.0</td>\n",
       "      <td>1</td>\n",
       "      <td>0</td>\n",
       "      <td>71.2833</td>\n",
       "      <td>C</td>\n",
       "    </tr>\n",
       "    <tr>\n",
       "      <th>2</th>\n",
       "      <td>0</td>\n",
       "      <td>female</td>\n",
       "      <td>26.0</td>\n",
       "      <td>0</td>\n",
       "      <td>0</td>\n",
       "      <td>7.9250</td>\n",
       "      <td>S</td>\n",
       "    </tr>\n",
       "    <tr>\n",
       "      <th>3</th>\n",
       "      <td>2</td>\n",
       "      <td>female</td>\n",
       "      <td>35.0</td>\n",
       "      <td>1</td>\n",
       "      <td>0</td>\n",
       "      <td>53.1000</td>\n",
       "      <td>S</td>\n",
       "    </tr>\n",
       "    <tr>\n",
       "      <th>4</th>\n",
       "      <td>0</td>\n",
       "      <td>male</td>\n",
       "      <td>35.0</td>\n",
       "      <td>0</td>\n",
       "      <td>0</td>\n",
       "      <td>8.0500</td>\n",
       "      <td>S</td>\n",
       "    </tr>\n",
       "  </tbody>\n",
       "</table>\n",
       "</div>"
      ],
      "text/plain": [
       "   Pclass     Sex   Age  SibSp  Parch     Fare Embarked\n",
       "0       0    male  22.0      1      0   7.2500        S\n",
       "1       2  female  38.0      1      0  71.2833        C\n",
       "2       0  female  26.0      0      0   7.9250        S\n",
       "3       2  female  35.0      1      0  53.1000        S\n",
       "4       0    male  35.0      0      0   8.0500        S"
      ]
     },
     "execution_count": 18,
     "metadata": {},
     "output_type": "execute_result"
    }
   ],
   "source": [
    "train_df.head()"
   ]
  },
  {
   "cell_type": "code",
   "execution_count": 19,
   "id": "384e03ce",
   "metadata": {},
   "outputs": [],
   "source": [
    "imputer = SimpleImputer(strategy = 'median')\n",
    "scaler = MinMaxScaler()"
   ]
  },
  {
   "cell_type": "code",
   "execution_count": 20,
   "id": "e3724e42",
   "metadata": {},
   "outputs": [],
   "source": [
    "train_df[numeric_columns] = imputer.fit_transform(train_df[numeric_columns]) # Completando os dados faltando com a mediana."
   ]
  },
  {
   "cell_type": "code",
   "execution_count": 21,
   "id": "82efae9b",
   "metadata": {},
   "outputs": [],
   "source": [
    "train_df[numeric_columns] = scaler.fit_transform(train_df[numeric_columns]) # Escalando os valores."
   ]
  },
  {
   "cell_type": "code",
   "execution_count": 22,
   "id": "f22a7b71",
   "metadata": {},
   "outputs": [
    {
     "data": {
      "text/html": [
       "<div>\n",
       "<style scoped>\n",
       "    .dataframe tbody tr th:only-of-type {\n",
       "        vertical-align: middle;\n",
       "    }\n",
       "\n",
       "    .dataframe tbody tr th {\n",
       "        vertical-align: top;\n",
       "    }\n",
       "\n",
       "    .dataframe thead th {\n",
       "        text-align: right;\n",
       "    }\n",
       "</style>\n",
       "<table border=\"1\" class=\"dataframe\">\n",
       "  <thead>\n",
       "    <tr style=\"text-align: right;\">\n",
       "      <th></th>\n",
       "      <th>Pclass</th>\n",
       "      <th>Sex</th>\n",
       "      <th>Age</th>\n",
       "      <th>SibSp</th>\n",
       "      <th>Parch</th>\n",
       "      <th>Fare</th>\n",
       "      <th>Embarked</th>\n",
       "    </tr>\n",
       "  </thead>\n",
       "  <tbody>\n",
       "    <tr>\n",
       "      <th>0</th>\n",
       "      <td>0.0</td>\n",
       "      <td>male</td>\n",
       "      <td>0.271174</td>\n",
       "      <td>0.125</td>\n",
       "      <td>0.0</td>\n",
       "      <td>0.014151</td>\n",
       "      <td>S</td>\n",
       "    </tr>\n",
       "    <tr>\n",
       "      <th>1</th>\n",
       "      <td>1.0</td>\n",
       "      <td>female</td>\n",
       "      <td>0.472229</td>\n",
       "      <td>0.125</td>\n",
       "      <td>0.0</td>\n",
       "      <td>0.139136</td>\n",
       "      <td>C</td>\n",
       "    </tr>\n",
       "    <tr>\n",
       "      <th>2</th>\n",
       "      <td>0.0</td>\n",
       "      <td>female</td>\n",
       "      <td>0.321438</td>\n",
       "      <td>0.000</td>\n",
       "      <td>0.0</td>\n",
       "      <td>0.015469</td>\n",
       "      <td>S</td>\n",
       "    </tr>\n",
       "    <tr>\n",
       "      <th>3</th>\n",
       "      <td>1.0</td>\n",
       "      <td>female</td>\n",
       "      <td>0.434531</td>\n",
       "      <td>0.125</td>\n",
       "      <td>0.0</td>\n",
       "      <td>0.103644</td>\n",
       "      <td>S</td>\n",
       "    </tr>\n",
       "    <tr>\n",
       "      <th>4</th>\n",
       "      <td>0.0</td>\n",
       "      <td>male</td>\n",
       "      <td>0.434531</td>\n",
       "      <td>0.000</td>\n",
       "      <td>0.0</td>\n",
       "      <td>0.015713</td>\n",
       "      <td>S</td>\n",
       "    </tr>\n",
       "  </tbody>\n",
       "</table>\n",
       "</div>"
      ],
      "text/plain": [
       "   Pclass     Sex       Age  SibSp  Parch      Fare Embarked\n",
       "0     0.0    male  0.271174  0.125    0.0  0.014151        S\n",
       "1     1.0  female  0.472229  0.125    0.0  0.139136        C\n",
       "2     0.0  female  0.321438  0.000    0.0  0.015469        S\n",
       "3     1.0  female  0.434531  0.125    0.0  0.103644        S\n",
       "4     0.0    male  0.434531  0.000    0.0  0.015713        S"
      ]
     },
     "execution_count": 22,
     "metadata": {},
     "output_type": "execute_result"
    }
   ],
   "source": [
    "train_df.head()"
   ]
  },
  {
   "cell_type": "markdown",
   "id": "1f40ceb5",
   "metadata": {},
   "source": [
    "##### As variáveis númericas foram trabalhadas para otimizar o funcionamento do modelo, completadas as colunas faltantes e os números foram escalados."
   ]
  },
  {
   "cell_type": "markdown",
   "id": "99abf902",
   "metadata": {},
   "source": [
    "### Trabalhando as features categóricas:"
   ]
  },
  {
   "cell_type": "markdown",
   "id": "91769c89",
   "metadata": {},
   "source": [
    "#### Retirando os valores nulos das colunas categóricas:"
   ]
  },
  {
   "cell_type": "code",
   "execution_count": 23,
   "id": "bc868d50",
   "metadata": {
    "scrolled": true
   },
   "outputs": [
    {
     "data": {
      "text/html": [
       "<div>\n",
       "<style scoped>\n",
       "    .dataframe tbody tr th:only-of-type {\n",
       "        vertical-align: middle;\n",
       "    }\n",
       "\n",
       "    .dataframe tbody tr th {\n",
       "        vertical-align: top;\n",
       "    }\n",
       "\n",
       "    .dataframe thead th {\n",
       "        text-align: right;\n",
       "    }\n",
       "</style>\n",
       "<table border=\"1\" class=\"dataframe\">\n",
       "  <thead>\n",
       "    <tr style=\"text-align: right;\">\n",
       "      <th></th>\n",
       "      <th>Pclass</th>\n",
       "      <th>Sex</th>\n",
       "      <th>Age</th>\n",
       "      <th>SibSp</th>\n",
       "      <th>Parch</th>\n",
       "      <th>Fare</th>\n",
       "      <th>Embarked</th>\n",
       "    </tr>\n",
       "  </thead>\n",
       "  <tbody>\n",
       "    <tr>\n",
       "      <th>61</th>\n",
       "      <td>1.0</td>\n",
       "      <td>female</td>\n",
       "      <td>0.472229</td>\n",
       "      <td>0.0</td>\n",
       "      <td>0.0</td>\n",
       "      <td>0.15615</td>\n",
       "      <td>NaN</td>\n",
       "    </tr>\n",
       "    <tr>\n",
       "      <th>829</th>\n",
       "      <td>1.0</td>\n",
       "      <td>female</td>\n",
       "      <td>0.773813</td>\n",
       "      <td>0.0</td>\n",
       "      <td>0.0</td>\n",
       "      <td>0.15615</td>\n",
       "      <td>NaN</td>\n",
       "    </tr>\n",
       "  </tbody>\n",
       "</table>\n",
       "</div>"
      ],
      "text/plain": [
       "     Pclass     Sex       Age  SibSp  Parch     Fare Embarked\n",
       "61      1.0  female  0.472229    0.0    0.0  0.15615      NaN\n",
       "829     1.0  female  0.773813    0.0    0.0  0.15615      NaN"
      ]
     },
     "execution_count": 23,
     "metadata": {},
     "output_type": "execute_result"
    }
   ],
   "source": [
    "train_df.loc[train_df['Embarked'].isna() == True]"
   ]
  },
  {
   "cell_type": "code",
   "execution_count": 24,
   "id": "99a6040d",
   "metadata": {
    "scrolled": true
   },
   "outputs": [
    {
     "data": {
      "text/plain": [
       "S    644\n",
       "C    168\n",
       "Q     77\n",
       "Name: Embarked, dtype: int64"
      ]
     },
     "execution_count": 24,
     "metadata": {},
     "output_type": "execute_result"
    }
   ],
   "source": [
    "train_df.Embarked.value_counts() # Contagem dos valores"
   ]
  },
  {
   "cell_type": "code",
   "execution_count": 25,
   "id": "c959a183",
   "metadata": {},
   "outputs": [],
   "source": [
    "train_df.loc[[61,829],'Embarked'] = 'S' "
   ]
  },
  {
   "cell_type": "code",
   "execution_count": 26,
   "id": "83ef6a59",
   "metadata": {},
   "outputs": [
    {
     "data": {
      "text/plain": [
       "Pclass      0\n",
       "Sex         0\n",
       "Age         0\n",
       "SibSp       0\n",
       "Parch       0\n",
       "Fare        0\n",
       "Embarked    0\n",
       "dtype: int64"
      ]
     },
     "execution_count": 26,
     "metadata": {},
     "output_type": "execute_result"
    }
   ],
   "source": [
    "train_df.isna().sum()"
   ]
  },
  {
   "cell_type": "markdown",
   "id": "22255913",
   "metadata": {},
   "source": [
    "###### Os valores de \"Embarked\" faltando foram substituídos pelo valor mais constante da coluna."
   ]
  },
  {
   "cell_type": "markdown",
   "id": "4ba518d7",
   "metadata": {},
   "source": [
    "#### Encoding das variavéis:"
   ]
  },
  {
   "cell_type": "code",
   "execution_count": 27,
   "id": "0f3ee14e",
   "metadata": {},
   "outputs": [],
   "source": [
    "encoder = OneHotEncoder(sparse = False) "
   ]
  },
  {
   "cell_type": "code",
   "execution_count": 28,
   "id": "3f217b22",
   "metadata": {},
   "outputs": [],
   "source": [
    "encoder.fit(train_df[categorical_columns])\n",
    "\n",
    "categorical_names = encoder.get_feature_names_out()\n",
    "\n",
    "train_df[categorical_names] = encoder.transform(train_df[categorical_columns])"
   ]
  },
  {
   "cell_type": "code",
   "execution_count": 29,
   "id": "385892a5",
   "metadata": {},
   "outputs": [],
   "source": [
    "train_df.drop(['Sex','Embarked'],axis=1,inplace=True) #Excluindo as colunas que foram transformadas."
   ]
  },
  {
   "cell_type": "code",
   "execution_count": 30,
   "id": "8e6fbf20",
   "metadata": {},
   "outputs": [
    {
     "data": {
      "text/html": [
       "<div>\n",
       "<style scoped>\n",
       "    .dataframe tbody tr th:only-of-type {\n",
       "        vertical-align: middle;\n",
       "    }\n",
       "\n",
       "    .dataframe tbody tr th {\n",
       "        vertical-align: top;\n",
       "    }\n",
       "\n",
       "    .dataframe thead th {\n",
       "        text-align: right;\n",
       "    }\n",
       "</style>\n",
       "<table border=\"1\" class=\"dataframe\">\n",
       "  <thead>\n",
       "    <tr style=\"text-align: right;\">\n",
       "      <th></th>\n",
       "      <th>Pclass</th>\n",
       "      <th>Age</th>\n",
       "      <th>SibSp</th>\n",
       "      <th>Parch</th>\n",
       "      <th>Fare</th>\n",
       "      <th>Sex_female</th>\n",
       "      <th>Sex_male</th>\n",
       "      <th>Embarked_C</th>\n",
       "      <th>Embarked_Q</th>\n",
       "      <th>Embarked_S</th>\n",
       "    </tr>\n",
       "  </thead>\n",
       "  <tbody>\n",
       "    <tr>\n",
       "      <th>0</th>\n",
       "      <td>0.0</td>\n",
       "      <td>0.271174</td>\n",
       "      <td>0.125</td>\n",
       "      <td>0.0</td>\n",
       "      <td>0.014151</td>\n",
       "      <td>0.0</td>\n",
       "      <td>1.0</td>\n",
       "      <td>0.0</td>\n",
       "      <td>0.0</td>\n",
       "      <td>1.0</td>\n",
       "    </tr>\n",
       "    <tr>\n",
       "      <th>1</th>\n",
       "      <td>1.0</td>\n",
       "      <td>0.472229</td>\n",
       "      <td>0.125</td>\n",
       "      <td>0.0</td>\n",
       "      <td>0.139136</td>\n",
       "      <td>1.0</td>\n",
       "      <td>0.0</td>\n",
       "      <td>1.0</td>\n",
       "      <td>0.0</td>\n",
       "      <td>0.0</td>\n",
       "    </tr>\n",
       "    <tr>\n",
       "      <th>2</th>\n",
       "      <td>0.0</td>\n",
       "      <td>0.321438</td>\n",
       "      <td>0.000</td>\n",
       "      <td>0.0</td>\n",
       "      <td>0.015469</td>\n",
       "      <td>1.0</td>\n",
       "      <td>0.0</td>\n",
       "      <td>0.0</td>\n",
       "      <td>0.0</td>\n",
       "      <td>1.0</td>\n",
       "    </tr>\n",
       "    <tr>\n",
       "      <th>3</th>\n",
       "      <td>1.0</td>\n",
       "      <td>0.434531</td>\n",
       "      <td>0.125</td>\n",
       "      <td>0.0</td>\n",
       "      <td>0.103644</td>\n",
       "      <td>1.0</td>\n",
       "      <td>0.0</td>\n",
       "      <td>0.0</td>\n",
       "      <td>0.0</td>\n",
       "      <td>1.0</td>\n",
       "    </tr>\n",
       "    <tr>\n",
       "      <th>4</th>\n",
       "      <td>0.0</td>\n",
       "      <td>0.434531</td>\n",
       "      <td>0.000</td>\n",
       "      <td>0.0</td>\n",
       "      <td>0.015713</td>\n",
       "      <td>0.0</td>\n",
       "      <td>1.0</td>\n",
       "      <td>0.0</td>\n",
       "      <td>0.0</td>\n",
       "      <td>1.0</td>\n",
       "    </tr>\n",
       "  </tbody>\n",
       "</table>\n",
       "</div>"
      ],
      "text/plain": [
       "   Pclass       Age  SibSp  Parch      Fare  Sex_female  Sex_male  Embarked_C  \\\n",
       "0     0.0  0.271174  0.125    0.0  0.014151         0.0       1.0         0.0   \n",
       "1     1.0  0.472229  0.125    0.0  0.139136         1.0       0.0         1.0   \n",
       "2     0.0  0.321438  0.000    0.0  0.015469         1.0       0.0         0.0   \n",
       "3     1.0  0.434531  0.125    0.0  0.103644         1.0       0.0         0.0   \n",
       "4     0.0  0.434531  0.000    0.0  0.015713         0.0       1.0         0.0   \n",
       "\n",
       "   Embarked_Q  Embarked_S  \n",
       "0         0.0         1.0  \n",
       "1         0.0         0.0  \n",
       "2         0.0         1.0  \n",
       "3         0.0         1.0  \n",
       "4         0.0         1.0  "
      ]
     },
     "execution_count": 30,
     "metadata": {},
     "output_type": "execute_result"
    }
   ],
   "source": [
    "train_df.head()"
   ]
  },
  {
   "cell_type": "markdown",
   "id": "5459c027",
   "metadata": {},
   "source": [
    "###### Todas os valores categóricos foram trabalhados para serem lidos corretamente pelos modelos."
   ]
  },
  {
   "cell_type": "markdown",
   "id": "3e9e9098",
   "metadata": {},
   "source": [
    "### Separando o dataset:"
   ]
  },
  {
   "cell_type": "code",
   "execution_count": 31,
   "id": "fd39aa39",
   "metadata": {},
   "outputs": [],
   "source": [
    "X_train, X_validation, y_train, y_validation = train_test_split(train_df, y, random_state=20)"
   ]
  },
  {
   "cell_type": "markdown",
   "id": "9849422b",
   "metadata": {},
   "source": [
    "## Parte 4 - Seleção dos modelos:"
   ]
  },
  {
   "cell_type": "markdown",
   "id": "dbc05829",
   "metadata": {},
   "source": [
    "### Logistic Regression:"
   ]
  },
  {
   "cell_type": "markdown",
   "id": "ed72e98d",
   "metadata": {},
   "source": [
    "#### Montando modelo:"
   ]
  },
  {
   "cell_type": "code",
   "execution_count": 32,
   "id": "53257840",
   "metadata": {},
   "outputs": [],
   "source": [
    "model_lr = LogisticRegression(random_state=20, n_jobs = -1) # Modelo base\n",
    "parametros_lr = {'C':[0.1,0.5,0.8,1], \n",
    "                 'solver':('newton-cg','lbfgs','liblinear','sag','saga')} # Parametros que serão testados\n",
    "\n",
    "model_lr_otimizado = GridSearchCV(model_lr, param_grid = parametros_lr,\n",
    "                                  scoring = {'F1_score':make_scorer(f1_score)},\n",
    "                                  refit = 'F1_score',\n",
    "                                  n_jobs = -1)"
   ]
  },
  {
   "cell_type": "code",
   "execution_count": 33,
   "id": "f587477a",
   "metadata": {},
   "outputs": [
    {
     "data": {
      "text/plain": [
       "{'C': 0.8, 'solver': 'newton-cg'}"
      ]
     },
     "execution_count": 33,
     "metadata": {},
     "output_type": "execute_result"
    }
   ],
   "source": [
    "model_lr_otimizado.fit(X_train,y_train) #Testando hiperparâmetros\n",
    "\n",
    "model_lr_otimizado.best_params_ # Melhores hiperparâmetros"
   ]
  },
  {
   "cell_type": "markdown",
   "id": "d5563946",
   "metadata": {},
   "source": [
    "#### Testando o modelo:"
   ]
  },
  {
   "cell_type": "code",
   "execution_count": 35,
   "id": "1d96f9fa",
   "metadata": {},
   "outputs": [
    {
     "name": "stdout",
     "output_type": "stream",
     "text": [
      "O modelo de regressão logistíca possui f1_score de 0.7329192546583853\n"
     ]
    }
   ],
   "source": [
    "model_lr_predict = model_lr_otimizado.predict(X_validation) # Testando o modelo\n",
    "\n",
    "score_lr = f1_score(y_validation,model_lr_predict)\n",
    "\n",
    "print('O modelo de regressão logistíca possui f1_score de {}'.format(score_lr))"
   ]
  },
  {
   "cell_type": "code",
   "execution_count": 36,
   "id": "f90aef11",
   "metadata": {
    "scrolled": true
   },
   "outputs": [
    {
     "data": {
      "text/html": [
       "<div>\n",
       "<style scoped>\n",
       "    .dataframe tbody tr th:only-of-type {\n",
       "        vertical-align: middle;\n",
       "    }\n",
       "\n",
       "    .dataframe tbody tr th {\n",
       "        vertical-align: top;\n",
       "    }\n",
       "\n",
       "    .dataframe thead th {\n",
       "        text-align: right;\n",
       "    }\n",
       "</style>\n",
       "<table border=\"1\" class=\"dataframe\">\n",
       "  <thead>\n",
       "    <tr style=\"text-align: right;\">\n",
       "      <th></th>\n",
       "      <th>0</th>\n",
       "      <th>1</th>\n",
       "    </tr>\n",
       "  </thead>\n",
       "  <tbody>\n",
       "    <tr>\n",
       "      <th>0</th>\n",
       "      <td>121</td>\n",
       "      <td>21</td>\n",
       "    </tr>\n",
       "    <tr>\n",
       "      <th>1</th>\n",
       "      <td>22</td>\n",
       "      <td>59</td>\n",
       "    </tr>\n",
       "  </tbody>\n",
       "</table>\n",
       "</div>"
      ],
      "text/plain": [
       "     0   1\n",
       "0  121  21\n",
       "1   22  59"
      ]
     },
     "execution_count": 36,
     "metadata": {},
     "output_type": "execute_result"
    }
   ],
   "source": [
    "labels = model_lr_otimizado.classes_ \n",
    "\n",
    "confusion_matrix_lr = confusion_matrix(y_validation, model_lr_predict, labels = labels)\n",
    "\n",
    "pd.DataFrame(confusion_matrix_lr)"
   ]
  },
  {
   "cell_type": "markdown",
   "id": "fd1b1b3d",
   "metadata": {},
   "source": [
    "#### O modelo de regressão logística após ser otimizado teve um resultado de 73,2% de precisão no f1_score, que equilibra as métricas de recall e precision, errando 43 previsões de 223, havendo equilíbrio entre falsos positivos e falsos negativos."
   ]
  },
  {
   "cell_type": "markdown",
   "id": "33db601a",
   "metadata": {},
   "source": [
    "### Random Forest:"
   ]
  },
  {
   "cell_type": "markdown",
   "id": "54fd0198",
   "metadata": {},
   "source": [
    "#### Montando modelo:"
   ]
  },
  {
   "cell_type": "code",
   "execution_count": 37,
   "id": "e7fc67de",
   "metadata": {},
   "outputs": [],
   "source": [
    "model_rf = RandomForestClassifier(random_state=20)\n",
    "\n",
    "parametros_rf = {'n_estimators':[x for x in range(30,150,30)],\n",
    "                 'max_depth':[x for x in range(4,16,4)],\n",
    "                 'min_samples_split':[2,10,20],\n",
    "                 'max_leaf_nodes' : [x for x in range(100,200,20)]\n",
    "                }\n",
    "\n",
    "model_rf_otimizado = GridSearchCV(model_rf, param_grid = parametros_rf,\n",
    "                                  scoring={'F1_score':make_scorer(f1_score)},\n",
    "                                  refit = 'F1_score',\n",
    "                                  n_jobs = -1)"
   ]
  },
  {
   "cell_type": "markdown",
   "id": "e9aaab85",
   "metadata": {},
   "source": [
    "#### Testando o modelo:"
   ]
  },
  {
   "cell_type": "code",
   "execution_count": 38,
   "id": "6d236b9f",
   "metadata": {},
   "outputs": [
    {
     "data": {
      "text/plain": [
       "{'max_depth': 12,\n",
       " 'max_leaf_nodes': 100,\n",
       " 'min_samples_split': 10,\n",
       " 'n_estimators': 30}"
      ]
     },
     "execution_count": 38,
     "metadata": {},
     "output_type": "execute_result"
    }
   ],
   "source": [
    "model_rf_otimizado.fit(X_train,y_train) #Testando hiperparâmetros\n",
    "\n",
    "model_rf_otimizado.best_params_ # Melhores hiperparâmetros"
   ]
  },
  {
   "cell_type": "code",
   "execution_count": 39,
   "id": "66e0a386",
   "metadata": {},
   "outputs": [
    {
     "name": "stdout",
     "output_type": "stream",
     "text": [
      "O modelo Random Forest possui f1_score de 0.7307692307692308\n"
     ]
    }
   ],
   "source": [
    "model_rf_predict = model_rf_otimizado.predict(X_validation) # Testando o modelo\n",
    "\n",
    "score_rf = f1_score(y_validation,model_rf_predict)\n",
    "\n",
    "print('O modelo Random Forest possui f1_score de {}'.format(score_rf))"
   ]
  },
  {
   "cell_type": "code",
   "execution_count": 40,
   "id": "139d1f01",
   "metadata": {},
   "outputs": [
    {
     "data": {
      "text/html": [
       "<div>\n",
       "<style scoped>\n",
       "    .dataframe tbody tr th:only-of-type {\n",
       "        vertical-align: middle;\n",
       "    }\n",
       "\n",
       "    .dataframe tbody tr th {\n",
       "        vertical-align: top;\n",
       "    }\n",
       "\n",
       "    .dataframe thead th {\n",
       "        text-align: right;\n",
       "    }\n",
       "</style>\n",
       "<table border=\"1\" class=\"dataframe\">\n",
       "  <thead>\n",
       "    <tr style=\"text-align: right;\">\n",
       "      <th></th>\n",
       "      <th>0</th>\n",
       "      <th>1</th>\n",
       "    </tr>\n",
       "  </thead>\n",
       "  <tbody>\n",
       "    <tr>\n",
       "      <th>0</th>\n",
       "      <td>124</td>\n",
       "      <td>18</td>\n",
       "    </tr>\n",
       "    <tr>\n",
       "      <th>1</th>\n",
       "      <td>24</td>\n",
       "      <td>57</td>\n",
       "    </tr>\n",
       "  </tbody>\n",
       "</table>\n",
       "</div>"
      ],
      "text/plain": [
       "     0   1\n",
       "0  124  18\n",
       "1   24  57"
      ]
     },
     "execution_count": 40,
     "metadata": {},
     "output_type": "execute_result"
    }
   ],
   "source": [
    "confusion_matrix_rf = confusion_matrix(y_validation,model_rf_predict, labels = labels)\n",
    "\n",
    "pd.DataFrame(confusion_matrix_rf)"
   ]
  },
  {
   "cell_type": "markdown",
   "id": "d6586d26",
   "metadata": {},
   "source": [
    "##### O modelo Random Foreste teve resultado de 73,0% no f1_score, errando 42 previsões de 223, porém ele capta menos a sobreviência do que a regressão logística."
   ]
  },
  {
   "cell_type": "markdown",
   "id": "1085d704",
   "metadata": {},
   "source": [
    "### K-Nearest Neighbors:"
   ]
  },
  {
   "cell_type": "markdown",
   "id": "08752542",
   "metadata": {},
   "source": [
    "#### Montando modelo:"
   ]
  },
  {
   "cell_type": "code",
   "execution_count": 41,
   "id": "e8fa4e0d",
   "metadata": {},
   "outputs": [],
   "source": [
    "model_knn = KNeighborsClassifier()\n",
    "\n",
    "parametros_knn = {'n_neighbors':[3,5,7], 'p':[1,2],\n",
    "                  'weights':('uniform', 'distance')}\n",
    "\n",
    "model_knn_otimizado = GridSearchCV(model_knn, param_grid = parametros_knn,\n",
    "                                  scoring={'F1_score':make_scorer(f1_score)},\n",
    "                                  refit = 'F1_score',\n",
    "                                  n_jobs = -1)"
   ]
  },
  {
   "cell_type": "markdown",
   "id": "23c3c5a0",
   "metadata": {},
   "source": [
    "#### Testando modelo:"
   ]
  },
  {
   "cell_type": "code",
   "execution_count": 42,
   "id": "f05d53e7",
   "metadata": {},
   "outputs": [
    {
     "data": {
      "text/plain": [
       "{'n_neighbors': 5, 'p': 1, 'weights': 'uniform'}"
      ]
     },
     "execution_count": 42,
     "metadata": {},
     "output_type": "execute_result"
    }
   ],
   "source": [
    "model_knn_otimizado.fit(X_train,y_train) #Testando hiperparâmetros\n",
    "\n",
    "model_knn_otimizado.best_params_ # Melhores hiperparâmetros"
   ]
  },
  {
   "cell_type": "code",
   "execution_count": 43,
   "id": "c460d0b9",
   "metadata": {},
   "outputs": [
    {
     "name": "stdout",
     "output_type": "stream",
     "text": [
      "O modelo K-Nearest Neighbors possui f1_score de 0.7096774193548386\n"
     ]
    }
   ],
   "source": [
    "model_knn_predict = model_knn_otimizado.predict(X_validation) # Testando o modelo\n",
    "\n",
    "score_knn = f1_score(y_validation,model_knn_predict)\n",
    "\n",
    "print('O modelo K-Nearest Neighbors possui f1_score de {}'.format(score_knn))"
   ]
  },
  {
   "cell_type": "code",
   "execution_count": 44,
   "id": "63bb73f1",
   "metadata": {
    "scrolled": true
   },
   "outputs": [
    {
     "data": {
      "text/html": [
       "<div>\n",
       "<style scoped>\n",
       "    .dataframe tbody tr th:only-of-type {\n",
       "        vertical-align: middle;\n",
       "    }\n",
       "\n",
       "    .dataframe tbody tr th {\n",
       "        vertical-align: top;\n",
       "    }\n",
       "\n",
       "    .dataframe thead th {\n",
       "        text-align: right;\n",
       "    }\n",
       "</style>\n",
       "<table border=\"1\" class=\"dataframe\">\n",
       "  <thead>\n",
       "    <tr style=\"text-align: right;\">\n",
       "      <th></th>\n",
       "      <th>0</th>\n",
       "      <th>1</th>\n",
       "    </tr>\n",
       "  </thead>\n",
       "  <tbody>\n",
       "    <tr>\n",
       "      <th>0</th>\n",
       "      <td>123</td>\n",
       "      <td>19</td>\n",
       "    </tr>\n",
       "    <tr>\n",
       "      <th>1</th>\n",
       "      <td>26</td>\n",
       "      <td>55</td>\n",
       "    </tr>\n",
       "  </tbody>\n",
       "</table>\n",
       "</div>"
      ],
      "text/plain": [
       "     0   1\n",
       "0  123  19\n",
       "1   26  55"
      ]
     },
     "execution_count": 44,
     "metadata": {},
     "output_type": "execute_result"
    }
   ],
   "source": [
    "confusion_matrix_knn = confusion_matrix(y_validation,model_knn_predict, labels = labels)\n",
    "\n",
    "pd.DataFrame(confusion_matrix_knn)"
   ]
  },
  {
   "cell_type": "markdown",
   "id": "3bfb5d32",
   "metadata": {},
   "source": [
    "#### O modelo de K-Nearest Neighbors resultou em um f1_score de 70%, errando cerca de 45 previsões, performando menos do que os outros modelos tanto em identificar os sobreviventes quanto os que faleceram."
   ]
  },
  {
   "cell_type": "markdown",
   "id": "1c4434b6",
   "metadata": {},
   "source": [
    "### Modelo Selecionado: Regressão Logística"
   ]
  },
  {
   "cell_type": "markdown",
   "id": "3fab6e18",
   "metadata": {},
   "source": [
    "#### O modelo de regressão logística foi selecionada para proseguir no projeto, pois apresenta maior capacidade de identificar os sobreviventes do que os outros modelos."
   ]
  },
  {
   "cell_type": "markdown",
   "id": "77021dfb",
   "metadata": {},
   "source": [
    "### Salvando o modelo:"
   ]
  },
  {
   "cell_type": "code",
   "execution_count": 45,
   "id": "181d41b5",
   "metadata": {},
   "outputs": [
    {
     "data": {
      "text/plain": [
       "['titanic_model.joblib']"
      ]
     },
     "execution_count": 45,
     "metadata": {},
     "output_type": "execute_result"
    }
   ],
   "source": [
    "pipe_dict = {'modelo':model_lr_otimizado, 'encoder':encoder, 'scaler':scaler, 'imputer':imputer}\n",
    "\n",
    "joblib.dump(pipe_dict,'titanic_model.joblib')"
   ]
  },
  {
   "cell_type": "markdown",
   "id": "5ed54051",
   "metadata": {},
   "source": [
    "## Parte 5 - Resultados:"
   ]
  },
  {
   "cell_type": "markdown",
   "id": "bf28112b",
   "metadata": {},
   "source": [
    "### Carregando o modelo treinado:"
   ]
  },
  {
   "cell_type": "code",
   "execution_count": 83,
   "id": "2689fd71",
   "metadata": {},
   "outputs": [],
   "source": [
    "model_dict = joblib.load(r'C:\\Users\\Thomas\\Notebooks\\titanic_model.joblib')"
   ]
  },
  {
   "cell_type": "code",
   "execution_count": 47,
   "id": "4df0f6dc",
   "metadata": {},
   "outputs": [],
   "source": [
    "model = model_dict['modelo']  # chamando o modelo e os transformadores.\n",
    "encoder = model_dict['encoder']\n",
    "scaler = model_dict['scaler']\n",
    "imputer = model_dict['imputer']"
   ]
  },
  {
   "cell_type": "markdown",
   "id": "cd0f5550",
   "metadata": {},
   "source": [
    "### Preparando a pipeline:"
   ]
  },
  {
   "cell_type": "markdown",
   "id": "33a3d972",
   "metadata": {},
   "source": [
    "#### Definindo as funções manuais:"
   ]
  },
  {
   "cell_type": "code",
   "execution_count": 48,
   "id": "2f2f2eed-0076-4e43-9ec2-df2e621c39ea",
   "metadata": {},
   "outputs": [],
   "source": [
    "def excluir_colunas(df):\n",
    "    df = df.drop(['Name','Ticket','Cabin','PassengerId'],axis=1)\n",
    "    return df"
   ]
  },
  {
   "cell_type": "code",
   "execution_count": 49,
   "id": "d820366c",
   "metadata": {},
   "outputs": [],
   "source": [
    "def separar_colunas(df):\n",
    "    numeric_columns = df.select_dtypes(include=np.number).columns.to_list()\n",
    "    categorical_columns = df.select_dtypes(include=object).columns.to_list()\n",
    "    return numeric_columns, categorical_columns"
   ]
  },
  {
   "cell_type": "code",
   "execution_count": 50,
   "id": "b566e714-2988-45e7-a2e4-bb7ec4aa4e97",
   "metadata": {},
   "outputs": [],
   "source": [
    "def encoder_cardinal(df):\n",
    "    df['Pclass'] = df['Pclass'].apply(ordinal_encoder_pclass)\n",
    "    return df "
   ]
  },
  {
   "cell_type": "code",
   "execution_count": 51,
   "id": "fd31d4b3",
   "metadata": {},
   "outputs": [],
   "source": [
    "def ajeitar_colunas(df): #Prepara o dataframe para ser transformado.\n",
    "    df_colunas = excluir_colunas(df)\n",
    "    df_encoded = encoder_cardinal(df_colunas)\n",
    "    n_col,g_col = separar_colunas(df_encoded)\n",
    "    return df_encoded, n_col, g_col"
   ]
  },
  {
   "cell_type": "markdown",
   "id": "9baf73f6-3f6d-451a-ac0d-4b3fb79c8880",
   "metadata": {
    "tags": []
   },
   "source": [
    "#### Tratamento dos dados:"
   ]
  },
  {
   "cell_type": "code",
   "execution_count": 52,
   "id": "42096324",
   "metadata": {},
   "outputs": [],
   "source": [
    "def impute_and_encode(df,n_col,g_col): #Preenche os valores faltando e faz as variáveis dummy.\n",
    "    transformador = ColumnTransformer([('Impute',imputer,n_col),('Encoder',encoder,g_col)])\n",
    "    array = transformador.fit_transform(df)\n",
    "    labels = list(transformador.transformers[1][1].get_feature_names_out())\n",
    "    new_df = pd.DataFrame(array,columns=n_col + labels )\n",
    "    return new_df"
   ]
  },
  {
   "cell_type": "code",
   "execution_count": 53,
   "id": "4650d21f",
   "metadata": {},
   "outputs": [],
   "source": [
    "def scale(df): #Escala os dados.\n",
    "    array_scaled = scaler.fit_transform(df)\n",
    "    labels = list(scaler.feature_names_in_)\n",
    "    df_scaled = pd.DataFrame(array_scaled,columns=labels)\n",
    "    return df_scaled"
   ]
  },
  {
   "cell_type": "markdown",
   "id": "e97e0841",
   "metadata": {},
   "source": [
    "#### Função formadora de dataframe para modelagem:"
   ]
  },
  {
   "cell_type": "code",
   "execution_count": 54,
   "id": "cd2437fa",
   "metadata": {},
   "outputs": [],
   "source": [
    "def transformar_dataframe(df):\n",
    "    df_bruto, n_col, g_col = ajeitar_colunas(df)\n",
    "    df_encoded = impute_and_encode(df_bruto,n_col,g_col)\n",
    "    df_scaled = scale(df_encoded)\n",
    "    return df_scaled"
   ]
  },
  {
   "cell_type": "markdown",
   "id": "e3473a8f",
   "metadata": {},
   "source": [
    "### Previsão:"
   ]
  },
  {
   "cell_type": "markdown",
   "id": "92ff21a7",
   "metadata": {},
   "source": [
    "#### Função para previsão:"
   ]
  },
  {
   "cell_type": "code",
   "execution_count": 59,
   "id": "d9281d31",
   "metadata": {},
   "outputs": [],
   "source": [
    "def prever_sobreviventes(df,model):\n",
    "    input_df = transformar_dataframe(df)\n",
    "    predict = model.predict(input_df)\n",
    "    return predict "
   ]
  },
  {
   "cell_type": "markdown",
   "id": "e8308e84",
   "metadata": {},
   "source": [
    "#### Resultado:"
   ]
  },
  {
   "cell_type": "code",
   "execution_count": 61,
   "id": "b4be3b0e",
   "metadata": {},
   "outputs": [],
   "source": [
    "previsão = prever_sobreviventes(test_df,model)"
   ]
  },
  {
   "cell_type": "code",
   "execution_count": 63,
   "id": "131aad72",
   "metadata": {},
   "outputs": [],
   "source": [
    "resultados_series = pd.Series(previsão) #Unidos os resultados da previsão e o id do passageiro.\n",
    "id_ = test_df['PassengerId']"
   ]
  },
  {
   "cell_type": "code",
   "execution_count": 80,
   "id": "f4a0c6e7",
   "metadata": {},
   "outputs": [],
   "source": [
    "resultado = pd.concat([id_, resultados_series], axis=1)\n",
    "resultado.rename(columns = {0:'Survived'}, inplace= True)"
   ]
  },
  {
   "cell_type": "markdown",
   "id": "697735a9",
   "metadata": {},
   "source": [
    "### Salvando resultados:"
   ]
  },
  {
   "cell_type": "code",
   "execution_count": 82,
   "id": "884981f8",
   "metadata": {},
   "outputs": [],
   "source": [
    "resultado.to_csv('titanic.csv',index=False)"
   ]
  }
 ],
 "metadata": {
  "kernelspec": {
   "display_name": "Python 3 (ipykernel)",
   "language": "python",
   "name": "python3"
  },
  "language_info": {
   "codemirror_mode": {
    "name": "ipython",
    "version": 3
   },
   "file_extension": ".py",
   "mimetype": "text/x-python",
   "name": "python",
   "nbconvert_exporter": "python",
   "pygments_lexer": "ipython3",
   "version": "3.9.7"
  }
 },
 "nbformat": 4,
 "nbformat_minor": 5
}
