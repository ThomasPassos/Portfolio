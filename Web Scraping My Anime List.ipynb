{
 "cells": [
  {
   "cell_type": "markdown",
   "id": "fae43186",
   "metadata": {},
   "source": [
    "# Projeto de web scraping: análise de dados do site MAL\n",
    "#### Esse projeto tem como objetivo coletar dados relevantes, disponíveis publicamente no site My Anime List, efetuar uma limpeza nos dados coletados e montar uma base de dados explorável. "
   ]
  },
  {
   "cell_type": "markdown",
   "id": "6bc976ab",
   "metadata": {},
   "source": [
    "## Etapa 1 - Coleta dos dados no ranking de Top Animes:"
   ]
  },
  {
   "cell_type": "markdown",
   "id": "9e34cd8b",
   "metadata": {},
   "source": [
    "### Preparação para a coleta:\n",
    "#### Instalando as bibliotecas:"
   ]
  },
  {
   "cell_type": "code",
   "execution_count": 148,
   "id": "ee7e7127",
   "metadata": {},
   "outputs": [],
   "source": [
    "from bs4 import BeautifulSoup as bs\n",
    "import pandas as pd\n",
    "import time\n",
    "import requests\n",
    "import re\n",
    "import numpy as np\n",
    "import datetime as dt"
   ]
  },
  {
   "cell_type": "markdown",
   "id": "0180690c",
   "metadata": {},
   "source": [
    "#### Carregando a página:"
   ]
  },
  {
   "cell_type": "code",
   "execution_count": 33,
   "id": "237c585e",
   "metadata": {},
   "outputs": [],
   "source": [
    "url = 'https://myanimelist.net/topanime.php'\n",
    "pg = bs(requests.get(url).content)"
   ]
  },
  {
   "cell_type": "markdown",
   "id": "7b3f94a0",
   "metadata": {},
   "source": [
    "#### Selecionando os dados utéis:"
   ]
  },
  {
   "cell_type": "code",
   "execution_count": 196,
   "id": "d944a181",
   "metadata": {},
   "outputs": [],
   "source": [
    "dicionario_dados = {'Título':[],'Pontuação':[],'Rank':[]} #Dicionário modelo para armazenar os dados posteriormente "
   ]
  },
  {
   "cell_type": "markdown",
   "id": "ae8b44df",
   "metadata": {},
   "source": [
    "### Coletando informações:"
   ]
  },
  {
   "cell_type": "markdown",
   "id": "4c90be8f",
   "metadata": {},
   "source": [
    "#### Títulos:"
   ]
  },
  {
   "cell_type": "code",
   "execution_count": 197,
   "id": "14b0d5ba",
   "metadata": {},
   "outputs": [],
   "source": [
    "titles = pg.find('table').select('h3 a')\n",
    "titulos = [title.text for title in titles]"
   ]
  },
  {
   "cell_type": "markdown",
   "id": "2136c28a",
   "metadata": {},
   "source": [
    "#### Pontuação:"
   ]
  },
  {
   "cell_type": "code",
   "execution_count": 198,
   "id": "fbedbcfc",
   "metadata": {},
   "outputs": [],
   "source": [
    "scores = pg.find('table').find_all(text=re.compile('^([0-9]\\.[0-9]{2})$'))\n",
    "pontuacoes = [float(score) for score in scores] # Transformando em float"
   ]
  },
  {
   "cell_type": "markdown",
   "id": "580bada9",
   "metadata": {},
   "source": [
    "#### Rank:"
   ]
  },
  {
   "cell_type": "code",
   "execution_count": 199,
   "id": "6d85cac4",
   "metadata": {},
   "outputs": [],
   "source": [
    "ranks = pg.find('table').select('.rank.ac')\n",
    "ranques = [int(rank.get_text(strip=True)) for rank in ranks] # Transformando os valores em inteiros"
   ]
  },
  {
   "cell_type": "markdown",
   "id": "904ce162",
   "metadata": {},
   "source": [
    "### Armazenando os dados:"
   ]
  },
  {
   "cell_type": "code",
   "execution_count": 200,
   "id": "2e0a47c5",
   "metadata": {},
   "outputs": [],
   "source": [
    "dicionario_dados['Título'] = titulos\n",
    "dicionario_dados['Pontuação'] = pontuacoes\n",
    "dicionario_dados['Rank'] = ranques"
   ]
  },
  {
   "cell_type": "markdown",
   "id": "a65b5847",
   "metadata": {},
   "source": [
    "## Etapa 2 - Coleta de dados nas páginas por anime:"
   ]
  },
  {
   "cell_type": "markdown",
   "id": "c30cfedc",
   "metadata": {},
   "source": [
    "### Coletando os links para escalonamento da extração de dados:"
   ]
  },
  {
   "cell_type": "markdown",
   "id": "3366f2c8",
   "metadata": {},
   "source": [
    "#### Capturando os links das páginas:"
   ]
  },
  {
   "cell_type": "code",
   "execution_count": 201,
   "id": "b0beda9c",
   "metadata": {},
   "outputs": [],
   "source": [
    "urls = pg.find('table').select('h3 a')\n",
    "links = [url['href'] for url in urls]"
   ]
  },
  {
   "cell_type": "markdown",
   "id": "68943578",
   "metadata": {},
   "source": [
    "#### Capturando o link para passagem de página:"
   ]
  },
  {
   "cell_type": "code",
   "execution_count": 34,
   "id": "9170250b",
   "metadata": {},
   "outputs": [],
   "source": [
    "next_link = pg.find(class_='link-blue-box next')['href']\n",
    "dominio = 'https://myanimelist.net/topanime.php'\n",
    "next_link_completo = dominio + next_link"
   ]
  },
  {
   "cell_type": "markdown",
   "id": "a2ed0616",
   "metadata": {},
   "source": [
    "### Coletando dados em páginas individuais:"
   ]
  },
  {
   "cell_type": "markdown",
   "id": "cbddb0b4",
   "metadata": {},
   "source": [
    "#### Carregando a página:"
   ]
  },
  {
   "cell_type": "code",
   "execution_count": 35,
   "id": "95ff3795",
   "metadata": {},
   "outputs": [],
   "source": [
    "fma_pg = requests.get('https://myanimelist.net/anime/5114/Fullmetal_Alchemist__Brotherhood')\n",
    "fma_soup = bs(fma_pg.content)"
   ]
  },
  {
   "cell_type": "markdown",
   "id": "86a548a5",
   "metadata": {},
   "source": [
    "#### Selecionando os dados úteis ao projeto:"
   ]
  },
  {
   "cell_type": "code",
   "execution_count": 204,
   "id": "7dcc978d",
   "metadata": {},
   "outputs": [],
   "source": [
    "#Esses foram os dados escolhidos das páginas individuais dos animes\n",
    "dicionario_dados['Tema'] = [] #Dicionário modelo para armazenar dados posteriormente\n",
    "dicionario_dados['Gêneros'] = []\n",
    "dicionario_dados['Estúdio'] = []\n",
    "dicionario_dados['Demografia'] = [] \n",
    "dicionario_dados['Origem'] = []\n",
    "dicionario_dados['Episódios'] = []\n",
    "dicionario_dados['Estreou'] = []\n",
    "dicionario_dados['Horário exibido'] = []\n",
    "dicionario_dados['Status'] = []\n",
    "dicionario_dados['Classificação'] = [] \n",
    "dicionario_dados['Tipo'] = []"
   ]
  },
  {
   "cell_type": "markdown",
   "id": "efb34229",
   "metadata": {},
   "source": [
    "#### Coletando os dados:"
   ]
  },
  {
   "cell_type": "markdown",
   "id": "871a0859",
   "metadata": {},
   "source": [
    "##### Temas:"
   ]
  },
  {
   "cell_type": "code",
   "execution_count": 36,
   "id": "8d0d2e4c",
   "metadata": {},
   "outputs": [
    {
     "data": {
      "text/plain": [
       "['Military']"
      ]
     },
     "execution_count": 36,
     "metadata": {},
     "output_type": "execute_result"
    }
   ],
   "source": [
    "tema = fma_soup.find('span',text='Theme:')\n",
    "temas = tema.parent.find_all(itemprop='genre')\n",
    "tema = [tema.text for tema in temas]\n",
    "tema"
   ]
  },
  {
   "cell_type": "markdown",
   "id": "511f03d2",
   "metadata": {},
   "source": [
    "##### Gêneros:"
   ]
  },
  {
   "cell_type": "code",
   "execution_count": 38,
   "id": "8ddf5a35",
   "metadata": {},
   "outputs": [
    {
     "data": {
      "text/plain": [
       "['Action', 'Adventure', 'Comedy', 'Drama', 'Fantasy']"
      ]
     },
     "execution_count": 38,
     "metadata": {},
     "output_type": "execute_result"
    }
   ],
   "source": [
    "genero = fma_soup.find('span',text=re.compile('(Genres:|Genre:)'))   \n",
    "generos = genero.parent.find_all(itemprop='genre')\n",
    "genero = [genero.text for genero in generos]\n",
    "genero"
   ]
  },
  {
   "cell_type": "markdown",
   "id": "d52ff713",
   "metadata": {},
   "source": [
    "##### Estúdios:"
   ]
  },
  {
   "cell_type": "code",
   "execution_count": 207,
   "id": "8362b822",
   "metadata": {},
   "outputs": [
    {
     "data": {
      "text/plain": [
       "'Bones'"
      ]
     },
     "execution_count": 207,
     "metadata": {},
     "output_type": "execute_result"
    }
   ],
   "source": [
    "estudio = fma_soup.find(text='Studios:') #\n",
    "estudio.parent.next_sibling.next_sibling.text"
   ]
  },
  {
   "cell_type": "markdown",
   "id": "606750df",
   "metadata": {},
   "source": [
    "   ##### Demografia:"
   ]
  },
  {
   "cell_type": "code",
   "execution_count": 208,
   "id": "90e90e9b",
   "metadata": {},
   "outputs": [
    {
     "data": {
      "text/plain": [
       "'Shounen'"
      ]
     },
     "execution_count": 208,
     "metadata": {},
     "output_type": "execute_result"
    }
   ],
   "source": [
    "demografia = fma_soup.find(text='Demographic:') #\n",
    "demografia.parent.next_sibling.next_sibling.text"
   ]
  },
  {
   "cell_type": "markdown",
   "id": "96004246",
   "metadata": {},
   "source": [
    "##### Origem:"
   ]
  },
  {
   "cell_type": "code",
   "execution_count": 209,
   "id": "ef58e915",
   "metadata": {},
   "outputs": [
    {
     "data": {
      "text/plain": [
       "'Manga'"
      ]
     },
     "execution_count": 209,
     "metadata": {},
     "output_type": "execute_result"
    }
   ],
   "source": [
    "origem = fma_soup.find(text='Source:') \n",
    "origem.parent.next_sibling.get_text(strip=True)"
   ]
  },
  {
   "cell_type": "markdown",
   "id": "302bfd46",
   "metadata": {},
   "source": [
    "##### Episódios:"
   ]
  },
  {
   "cell_type": "code",
   "execution_count": 210,
   "id": "873e9063",
   "metadata": {},
   "outputs": [
    {
     "data": {
      "text/plain": [
       "'64'"
      ]
     },
     "execution_count": 210,
     "metadata": {},
     "output_type": "execute_result"
    }
   ],
   "source": [
    "episodios = fma_soup.find(text='Episodes:')\n",
    "episodios.parent.next_sibling.get_text(strip=True)"
   ]
  },
  {
   "cell_type": "markdown",
   "id": "f9ddee00",
   "metadata": {},
   "source": [
    "##### Estreias:"
   ]
  },
  {
   "cell_type": "code",
   "execution_count": 211,
   "id": "f9d7dd83",
   "metadata": {},
   "outputs": [
    {
     "data": {
      "text/plain": [
       "'Spring 2009'"
      ]
     },
     "execution_count": 211,
     "metadata": {},
     "output_type": "execute_result"
    }
   ],
   "source": [
    "estreia = fma_soup.find(text='Premiered:') \n",
    "estreia.parent.next_sibling.next_sibling.text"
   ]
  },
  {
   "cell_type": "markdown",
   "id": "4d54b829",
   "metadata": {},
   "source": [
    "##### Horários exibidos:"
   ]
  },
  {
   "cell_type": "code",
   "execution_count": 212,
   "id": "5b29b1b9",
   "metadata": {},
   "outputs": [
    {
     "data": {
      "text/plain": [
       "'Sundays at 17:00 (JST)'"
      ]
     },
     "execution_count": 212,
     "metadata": {},
     "output_type": "execute_result"
    }
   ],
   "source": [
    "horario = fma_soup.find(text='Broadcast:')\n",
    "horario.parent.next_sibling.get_text(strip=True)\n"
   ]
  },
  {
   "cell_type": "markdown",
   "id": "c3266801",
   "metadata": {},
   "source": [
    "##### Status:"
   ]
  },
  {
   "cell_type": "code",
   "execution_count": 213,
   "id": "ad748e9b",
   "metadata": {},
   "outputs": [
    {
     "data": {
      "text/plain": [
       "'Finished Airing'"
      ]
     },
     "execution_count": 213,
     "metadata": {},
     "output_type": "execute_result"
    }
   ],
   "source": [
    "status = fma_soup.find('span',text='Status:')\n",
    "status.next_sibling.get_text(strip=True)"
   ]
  },
  {
   "cell_type": "markdown",
   "id": "cb4e94f5",
   "metadata": {},
   "source": [
    "##### Classificação:"
   ]
  },
  {
   "cell_type": "code",
   "execution_count": 214,
   "id": "9f14893c",
   "metadata": {},
   "outputs": [
    {
     "data": {
      "text/plain": [
       "'R - 17+ (violence & profanity)'"
      ]
     },
     "execution_count": 214,
     "metadata": {},
     "output_type": "execute_result"
    }
   ],
   "source": [
    "r = fma_soup.find(text='Rating:')\n",
    "r.next.get_text(strip=True)"
   ]
  },
  {
   "cell_type": "markdown",
   "id": "f6ce1749",
   "metadata": {},
   "source": [
    "##### Tipos:"
   ]
  },
  {
   "cell_type": "code",
   "execution_count": 215,
   "id": "c2a14e47",
   "metadata": {},
   "outputs": [
    {
     "data": {
      "text/plain": [
       "'TV'"
      ]
     },
     "execution_count": 215,
     "metadata": {},
     "output_type": "execute_result"
    }
   ],
   "source": [
    "tipo = fma_soup.find(text='Type:')\n",
    "tipo.parent.next_sibling.next_sibling.text"
   ]
  },
  {
   "cell_type": "markdown",
   "id": "7fc25276",
   "metadata": {},
   "source": [
    "### Definindo funções para a automatização do processo:"
   ]
  },
  {
   "cell_type": "markdown",
   "id": "0547c250",
   "metadata": {},
   "source": [
    "#### Funções referentes a página completa:"
   ]
  },
  {
   "cell_type": "code",
   "execution_count": 216,
   "id": "77de71c0",
   "metadata": {},
   "outputs": [],
   "source": [
    "def extrair_pg(url): \n",
    "    try:\n",
    "        pg_bruta = requests.get(url)\n",
    "        pg = bs(pg_bruta.content)\n",
    "        return pg\n",
    "    except:\n",
    "        print(f'Não foi possível acessar o link {url}')"
   ]
  },
  {
   "cell_type": "code",
   "execution_count": 217,
   "id": "2b0a7cca",
   "metadata": {},
   "outputs": [],
   "source": [
    "def extrair_titulos(pg):\n",
    "    try:\n",
    "        titles = pg.find('table').select('h3 a')\n",
    "        titulos = [title.text for title in titles]\n",
    "        return titulos\n",
    "    except:\n",
    "        print('Não foi possível extrair os títulos da página')"
   ]
  },
  {
   "cell_type": "code",
   "execution_count": 218,
   "id": "9e5d257b",
   "metadata": {},
   "outputs": [],
   "source": [
    "def extrair_scores(pg):\n",
    "    try:\n",
    "        scores = pg.find('table').find_all(text=re.compile('^([0-9]\\.[0-9]{2})$'))\n",
    "        pontuacoes = [float(score) for score in scores] \n",
    "        return pontuacoes\n",
    "    except:\n",
    "        print('Não foi possível extrair as pontuações da páginas')"
   ]
  },
  {
   "cell_type": "code",
   "execution_count": 219,
   "id": "56286520",
   "metadata": {},
   "outputs": [],
   "source": [
    "def extrair_ranks(pg):\n",
    "    try:\n",
    "        ranks = pg.find('table').select('.rank.ac')\n",
    "        ranques = [int(rank.get_text(strip=True)) for rank in ranks]\n",
    "        return ranques\n",
    "    except:\n",
    "        print('Não foi possível extrair os ranks')"
   ]
  },
  {
   "cell_type": "code",
   "execution_count": 220,
   "id": "96c99157",
   "metadata": {},
   "outputs": [],
   "source": [
    "def extrair_nextlink(pg):\n",
    "    try:\n",
    "        next_link = pg.find(class_='link-blue-box next')['href']\n",
    "        dominio = 'https://myanimelist.net/topanime.php'\n",
    "        next_link_completo = dominio + next_link\n",
    "        return next_link_completo\n",
    "    except:\n",
    "        print('Não foi possível extrair o link da próxima página')"
   ]
  },
  {
   "cell_type": "code",
   "execution_count": 221,
   "id": "62946396",
   "metadata": {},
   "outputs": [],
   "source": [
    "def extrair_links(pg):\n",
    "    try:\n",
    "        urls = pg.find('table').select('h3 a')\n",
    "        links = [url['href'] for url in urls]\n",
    "        return links\n",
    "    except:\n",
    "        print('Não foi possível extrair a lista de links')     "
   ]
  },
  {
   "cell_type": "markdown",
   "id": "b39795a9",
   "metadata": {},
   "source": [
    "#### Função completa da lista:"
   ]
  },
  {
   "cell_type": "code",
   "execution_count": 222,
   "id": "1bcf46a3",
   "metadata": {},
   "outputs": [],
   "source": [
    "def coletar_dados(url):\n",
    "        pg = extrair_pg(url)\n",
    "        titulos = extrair_titulos(pg)\n",
    "        pontuacoes = extrair_scores(pg)\n",
    "        ranques = extrair_ranks(pg)\n",
    "        next_link = extrair_nextlink(pg)\n",
    "        links = extrair_links(pg)\n",
    "        \n",
    "        dicionario_dados = {}\n",
    "        dicionario_dados['Título'] = titulos \n",
    "        dicionario_dados['Pontuação'] = pontuacoes\n",
    "        dicionario_dados['Rank'] = ranques\n",
    "        \n",
    "        dicionario_links = {}\n",
    "        dicionario_links['Next'] = next_link\n",
    "        dicionario_links['Lista'] = links\n",
    "        return dicionario_dados, dicionario_links"
   ]
  },
  {
   "cell_type": "markdown",
   "id": "b55bb644",
   "metadata": {},
   "source": [
    "#### Definindo funções para páginas individuais:"
   ]
  },
  {
   "cell_type": "code",
   "execution_count": 223,
   "id": "bef4f5f8",
   "metadata": {},
   "outputs": [],
   "source": [
    "def extrair_tipo(pg):\n",
    "    try:\n",
    "        tipo = pg.find(text='Type:')\n",
    "        tipo = tipo.parent.next_sibling.next_sibling.text\n",
    "        return tipo\n",
    "    except:\n",
    "        return None"
   ]
  },
  {
   "cell_type": "code",
   "execution_count": 224,
   "id": "a7b63b5d",
   "metadata": {},
   "outputs": [],
   "source": [
    "def extrair_tema(pg): \n",
    "    try:\n",
    "        temas = pg.find('span',text=re.compile('(Theme:|Themes:)')) \n",
    "        temas = temas.parent.find_all(itemprop='genre')\n",
    "        if len(temas) == 1:\n",
    "            temas = temas[0].text\n",
    "            return temas\n",
    "        else:\n",
    "            textos = ''\n",
    "            for tema in temas:\n",
    "                textos += ',' + ' ' + tema.text  \n",
    "            textos = textos.replace(',','',1)\n",
    "            return textos\n",
    "    except:\n",
    "        return None "
   ]
  },
  {
   "cell_type": "code",
   "execution_count": 225,
   "id": "67df47d5",
   "metadata": {},
   "outputs": [],
   "source": [
    "def extrair_genero(pg): \n",
    "    try:\n",
    "        generos = pg.find('span',text=re.compile('(Genres:|Genre:)')) \n",
    "        generos = generos.parent.find_all(itemprop='genre')\n",
    "        if len(generos) == 1:\n",
    "            return generos[0].text\n",
    "        else:\n",
    "            textos = ''\n",
    "            for genero in generos:\n",
    "                textos += ',' + ' ' + genero.text  \n",
    "            textos = textos.replace(',','',1)\n",
    "            return textos      \n",
    "    except:\n",
    "        return None"
   ]
  },
  {
   "cell_type": "code",
   "execution_count": 226,
   "id": "0e78dbfe",
   "metadata": {},
   "outputs": [],
   "source": [
    "def extrair_estudio(pg):\n",
    "    try:\n",
    "        estudio = pg.find(text='Studios:') \n",
    "        estudio = estudio.parent.next_sibling.next_sibling.text\n",
    "        return estudio\n",
    "    except:\n",
    "        return None"
   ]
  },
  {
   "cell_type": "code",
   "execution_count": 227,
   "id": "35e5db70",
   "metadata": {},
   "outputs": [],
   "source": [
    "def extrair_demografia(pg): \n",
    "    try:\n",
    "        demografia = pg.find(text='Demographic:') \n",
    "        demografia = demografia.parent.next_sibling.next_sibling.text\n",
    "        return demografia\n",
    "    except:\n",
    "        return None"
   ]
  },
  {
   "cell_type": "code",
   "execution_count": 228,
   "id": "98d16d1e",
   "metadata": {},
   "outputs": [],
   "source": [
    "def extrair_origem(pg):\n",
    "    try:\n",
    "        origem = pg.find(text='Source:') \n",
    "        origem = origem.parent.next_sibling.get_text(strip=True)\n",
    "        return origem\n",
    "    except:\n",
    "        return None"
   ]
  },
  {
   "cell_type": "code",
   "execution_count": 229,
   "id": "6f81baab",
   "metadata": {},
   "outputs": [],
   "source": [
    "def extrair_episodios(pg): \n",
    "    try:\n",
    "        episodios = pg.find(text='Episodes:')\n",
    "        episodios = episodios.parent.next_sibling.get_text(strip=True)\n",
    "        return int(episodios)\n",
    "    except:\n",
    "        return None "
   ]
  },
  {
   "cell_type": "code",
   "execution_count": 230,
   "id": "1dd68a28",
   "metadata": {},
   "outputs": [],
   "source": [
    "def extrair_estreias(pg): \n",
    "    try:\n",
    "        estreia = pg.find(text='Premiered:') \n",
    "        estreia = estreia.parent.next_sibling.next_sibling.text\n",
    "        return estreia\n",
    "    except:\n",
    "        return None"
   ]
  },
  {
   "cell_type": "code",
   "execution_count": 231,
   "id": "9e9332b1",
   "metadata": {},
   "outputs": [],
   "source": [
    "def extrair_horarios(pg):\n",
    "    try:\n",
    "        horario = pg.find(text='Broadcast:')\n",
    "        horario = horario.parent.next_sibling.get_text(strip=True)\n",
    "        return horario\n",
    "    except:\n",
    "        return None"
   ]
  },
  {
   "cell_type": "code",
   "execution_count": 232,
   "id": "7aa42e3a",
   "metadata": {},
   "outputs": [],
   "source": [
    "def extrair_status(pg):\n",
    "    try:\n",
    "        status = pg.find('span',text='Status:')\n",
    "        status = status.next_sibling.get_text(strip=True)\n",
    "        return status\n",
    "    except:\n",
    "        return None"
   ]
  },
  {
   "cell_type": "code",
   "execution_count": 233,
   "id": "9f5d01a7",
   "metadata": {},
   "outputs": [],
   "source": [
    "def extrair_r(pg):\n",
    "    try:\n",
    "        r = pg.find(text='Rating:')\n",
    "        r = r.next.get_text(strip=True)\n",
    "        return r\n",
    "    except:\n",
    "        return None"
   ]
  },
  {
   "cell_type": "markdown",
   "id": "e457db91",
   "metadata": {},
   "source": [
    "#### Função completa da página:"
   ]
  },
  {
   "cell_type": "code",
   "execution_count": 234,
   "id": "257d5d71",
   "metadata": {},
   "outputs": [],
   "source": [
    "def extrair_tudo(url):\n",
    "    pg = extrair_pg(url)\n",
    "    tema = extrair_tema(pg)\n",
    "    genero = extrair_genero(pg)\n",
    "    estudio = extrair_estudio(pg)\n",
    "    demografia = extrair_demografia(pg)\n",
    "    origem = extrair_origem(pg)\n",
    "    episodios = extrair_episodios(pg)\n",
    "    estreia = extrair_estreias(pg)\n",
    "    horarios = extrair_horarios(pg)\n",
    "    status = extrair_status(pg)\n",
    "    rating = extrair_r(pg)\n",
    "    tipo = extrair_tipo(pg)\n",
    "    \n",
    "    dicionario_dados = {}\n",
    "    dicionario_dados['Tema'] = tema\n",
    "    dicionario_dados['Gêneros'] = genero\n",
    "    dicionario_dados['Estúdio'] = estudio\n",
    "    dicionario_dados['Demografia'] = demografia \n",
    "    dicionario_dados['Origem'] = origem\n",
    "    dicionario_dados['Episódios'] = episodios\n",
    "    dicionario_dados['Estréia'] = estreia\n",
    "    dicionario_dados['Horário exibido'] = horarios\n",
    "    dicionario_dados['Status'] = status\n",
    "    dicionario_dados['Classificação'] = rating \n",
    "    dicionario_dados['Tipo'] = tipo\n",
    "    return dicionario_dados"
   ]
  },
  {
   "cell_type": "markdown",
   "id": "e322c5c5",
   "metadata": {},
   "source": [
    "### Funções finais:"
   ]
  },
  {
   "cell_type": "code",
   "execution_count": 235,
   "id": "d4b4503c",
   "metadata": {},
   "outputs": [],
   "source": [
    "def formar_df(dict1,dict2):\n",
    "    x = pd.DataFrame(dict1)\n",
    "    y = pd.DataFrame(dict2)\n",
    "    z = pd.concat([x,y],axis=1)\n",
    "    return z"
   ]
  },
  {
   "cell_type": "code",
   "execution_count": 236,
   "id": "c84ed745",
   "metadata": {},
   "outputs": [],
   "source": [
    "def coleta_completa(url):\n",
    "    dicionario_dados, dicionario_links = coletar_dados(url)\n",
    "    dict_list = []\n",
    "    links = dicionario_links['Lista']\n",
    "    next_link = dicionario_links['Next']\n",
    "    for link in links:\n",
    "        dicionario = extrair_tudo(link)\n",
    "        dict_list.append(dicionario)\n",
    "        time.sleep(1)\n",
    "    df = formar_df(dict_list,dicionario_dados)\n",
    "    return df,next_link"
   ]
  },
  {
   "cell_type": "markdown",
   "id": "c6924fcb",
   "metadata": {},
   "source": [
    "### Coletando todos os dados de páginas na 1° lista:"
   ]
  },
  {
   "cell_type": "code",
   "execution_count": 237,
   "id": "2ae986eb",
   "metadata": {},
   "outputs": [],
   "source": [
    "df_1,next_link = coleta_completa('https://myanimelist.net/topanime.php?limit=0')"
   ]
  },
  {
   "cell_type": "code",
   "execution_count": 250,
   "id": "c5863126",
   "metadata": {},
   "outputs": [
    {
     "data": {
      "text/html": [
       "<div>\n",
       "<style scoped>\n",
       "    .dataframe tbody tr th:only-of-type {\n",
       "        vertical-align: middle;\n",
       "    }\n",
       "\n",
       "    .dataframe tbody tr th {\n",
       "        vertical-align: top;\n",
       "    }\n",
       "\n",
       "    .dataframe thead th {\n",
       "        text-align: right;\n",
       "    }\n",
       "</style>\n",
       "<table border=\"1\" class=\"dataframe\">\n",
       "  <thead>\n",
       "    <tr style=\"text-align: right;\">\n",
       "      <th></th>\n",
       "      <th>Tema</th>\n",
       "      <th>Gêneros</th>\n",
       "      <th>Estúdio</th>\n",
       "      <th>Demografia</th>\n",
       "      <th>Origem</th>\n",
       "      <th>Episódios</th>\n",
       "      <th>Estréia</th>\n",
       "      <th>Horário exibido</th>\n",
       "      <th>Status</th>\n",
       "      <th>Classificação</th>\n",
       "      <th>Tipo</th>\n",
       "      <th>Título</th>\n",
       "      <th>Pontuação</th>\n",
       "      <th>Rank</th>\n",
       "    </tr>\n",
       "  </thead>\n",
       "  <tbody>\n",
       "    <tr>\n",
       "      <th>0</th>\n",
       "      <td>Military</td>\n",
       "      <td>Action, Adventure, Comedy, Drama, Fantasy</td>\n",
       "      <td>Bones</td>\n",
       "      <td>Shounen</td>\n",
       "      <td>Manga</td>\n",
       "      <td>64.0</td>\n",
       "      <td>Spring 2009</td>\n",
       "      <td>Sundays at 17:00 (JST)</td>\n",
       "      <td>Finished Airing</td>\n",
       "      <td>R - 17+ (violence &amp; profanity)</td>\n",
       "      <td>TV</td>\n",
       "      <td>Fullmetal Alchemist: Brotherhood</td>\n",
       "      <td>9.15</td>\n",
       "      <td>1</td>\n",
       "    </tr>\n",
       "    <tr>\n",
       "      <th>1</th>\n",
       "      <td>Military, Super Power</td>\n",
       "      <td>Action, Drama, Fantasy, Mystery</td>\n",
       "      <td>MAPPA</td>\n",
       "      <td>Shounen</td>\n",
       "      <td>Manga</td>\n",
       "      <td>12.0</td>\n",
       "      <td>Winter 2022</td>\n",
       "      <td>Mondays at 00:05 (JST)</td>\n",
       "      <td>Currently Airing</td>\n",
       "      <td>R - 17+ (violence &amp; profanity)</td>\n",
       "      <td>TV</td>\n",
       "      <td>Shingeki no Kyojin: The Final Season Part 2</td>\n",
       "      <td>9.13</td>\n",
       "      <td>2</td>\n",
       "    </tr>\n",
       "    <tr>\n",
       "      <th>2</th>\n",
       "      <td>Psychological</td>\n",
       "      <td>Drama, Sci-Fi, Suspense</td>\n",
       "      <td>White Fox</td>\n",
       "      <td>None</td>\n",
       "      <td>Visual novel</td>\n",
       "      <td>24.0</td>\n",
       "      <td>Spring 2011</td>\n",
       "      <td>Wednesdays at 02:05 (JST)</td>\n",
       "      <td>Finished Airing</td>\n",
       "      <td>PG-13 - Teens 13 or older</td>\n",
       "      <td>TV</td>\n",
       "      <td>Steins;Gate</td>\n",
       "      <td>9.09</td>\n",
       "      <td>3</td>\n",
       "    </tr>\n",
       "    <tr>\n",
       "      <th>3</th>\n",
       "      <td>Historical, Parody, Samurai</td>\n",
       "      <td>Action, Comedy, Sci-Fi</td>\n",
       "      <td>Bandai Namco Pictures</td>\n",
       "      <td>Shounen</td>\n",
       "      <td>Manga</td>\n",
       "      <td>51.0</td>\n",
       "      <td>Spring 2015</td>\n",
       "      <td>Wednesdays at 18:00 (JST)</td>\n",
       "      <td>Finished Airing</td>\n",
       "      <td>PG-13 - Teens 13 or older</td>\n",
       "      <td>TV</td>\n",
       "      <td>Gintama°</td>\n",
       "      <td>9.09</td>\n",
       "      <td>4</td>\n",
       "    </tr>\n",
       "    <tr>\n",
       "      <th>4</th>\n",
       "      <td>Military, Super Power</td>\n",
       "      <td>Action, Drama, Fantasy, Mystery</td>\n",
       "      <td>Wit Studio</td>\n",
       "      <td>Shounen</td>\n",
       "      <td>Manga</td>\n",
       "      <td>10.0</td>\n",
       "      <td>Spring 2019</td>\n",
       "      <td>Mondays at 00:10 (JST)</td>\n",
       "      <td>Finished Airing</td>\n",
       "      <td>R - 17+ (violence &amp; profanity)</td>\n",
       "      <td>TV</td>\n",
       "      <td>Shingeki no Kyojin Season 3 Part 2</td>\n",
       "      <td>9.08</td>\n",
       "      <td>5</td>\n",
       "    </tr>\n",
       "  </tbody>\n",
       "</table>\n",
       "</div>"
      ],
      "text/plain": [
       "                           Tema                                     Gêneros  \\\n",
       "0                      Military   Action, Adventure, Comedy, Drama, Fantasy   \n",
       "1         Military, Super Power             Action, Drama, Fantasy, Mystery   \n",
       "2                 Psychological                     Drama, Sci-Fi, Suspense   \n",
       "3   Historical, Parody, Samurai                      Action, Comedy, Sci-Fi   \n",
       "4         Military, Super Power             Action, Drama, Fantasy, Mystery   \n",
       "\n",
       "                 Estúdio Demografia        Origem  Episódios      Estréia  \\\n",
       "0                  Bones    Shounen         Manga       64.0  Spring 2009   \n",
       "1                  MAPPA    Shounen         Manga       12.0  Winter 2022   \n",
       "2              White Fox       None  Visual novel       24.0  Spring 2011   \n",
       "3  Bandai Namco Pictures    Shounen         Manga       51.0  Spring 2015   \n",
       "4             Wit Studio    Shounen         Manga       10.0  Spring 2019   \n",
       "\n",
       "             Horário exibido            Status  \\\n",
       "0     Sundays at 17:00 (JST)   Finished Airing   \n",
       "1     Mondays at 00:05 (JST)  Currently Airing   \n",
       "2  Wednesdays at 02:05 (JST)   Finished Airing   \n",
       "3  Wednesdays at 18:00 (JST)   Finished Airing   \n",
       "4     Mondays at 00:10 (JST)   Finished Airing   \n",
       "\n",
       "                    Classificação Tipo  \\\n",
       "0  R - 17+ (violence & profanity)   TV   \n",
       "1  R - 17+ (violence & profanity)   TV   \n",
       "2       PG-13 - Teens 13 or older   TV   \n",
       "3       PG-13 - Teens 13 or older   TV   \n",
       "4  R - 17+ (violence & profanity)   TV   \n",
       "\n",
       "                                        Título  Pontuação  Rank  \n",
       "0             Fullmetal Alchemist: Brotherhood       9.15     1  \n",
       "1  Shingeki no Kyojin: The Final Season Part 2       9.13     2  \n",
       "2                                  Steins;Gate       9.09     3  \n",
       "3                                     Gintama°       9.09     4  \n",
       "4           Shingeki no Kyojin Season 3 Part 2       9.08     5  "
      ]
     },
     "execution_count": 250,
     "metadata": {},
     "output_type": "execute_result"
    }
   ],
   "source": [
    "df_1.head(3)"
   ]
  },
  {
   "cell_type": "markdown",
   "id": "42c92ffa",
   "metadata": {},
   "source": [
    "### Função para coleta de dados entre páginas com listas:"
   ]
  },
  {
   "cell_type": "code",
   "execution_count": 239,
   "id": "7a0ec9f6",
   "metadata": {},
   "outputs": [],
   "source": [
    "def formar_df_completo(url,n):\n",
    "    links = [url]\n",
    "    dfs = []\n",
    "    for link in links:\n",
    "        while len(links) <= n:\n",
    "            df,link = coleta_completa(link)\n",
    "            dfs.append(df)\n",
    "            links.append(link)\n",
    "            time.sleep(1)\n",
    "    return dfs"
   ]
  },
  {
   "cell_type": "markdown",
   "id": "5ef53d9d",
   "metadata": {},
   "source": [
    "### Coletando os dados dos primeiros 500 do ranking:"
   ]
  },
  {
   "cell_type": "code",
   "execution_count": 240,
   "id": "4b536a8c",
   "metadata": {},
   "outputs": [],
   "source": [
    "dfs = formar_df_completo('https://myanimelist.net/topanime.php?limit=0',10)"
   ]
  },
  {
   "cell_type": "code",
   "execution_count": 248,
   "id": "317f3cdd",
   "metadata": {},
   "outputs": [],
   "source": [
    "animes_df = pd.concat(dfs)\n",
    "animes_df.head(3)"
   ]
  },
  {
   "cell_type": "markdown",
   "id": "6e3a7f65",
   "metadata": {},
   "source": [
    "#### Salvando o dataframe:"
   ]
  },
  {
   "cell_type": "code",
   "execution_count": 259,
   "id": "52b81dc9",
   "metadata": {},
   "outputs": [],
   "source": [
    "animes_df.to_excel('df.xlsx',index=False)"
   ]
  },
  {
   "cell_type": "markdown",
   "id": "0ed708d3",
   "metadata": {},
   "source": [
    "## Etapa 2 -  Limpando o dataframe:"
   ]
  },
  {
   "cell_type": "markdown",
   "id": "781161bd",
   "metadata": {},
   "source": [
    "#### Analisando o dataframe:"
   ]
  },
  {
   "cell_type": "code",
   "execution_count": 11,
   "id": "12fd877a",
   "metadata": {
    "scrolled": true
   },
   "outputs": [
    {
     "data": {
      "text/html": [
       "<div>\n",
       "<style scoped>\n",
       "    .dataframe tbody tr th:only-of-type {\n",
       "        vertical-align: middle;\n",
       "    }\n",
       "\n",
       "    .dataframe tbody tr th {\n",
       "        vertical-align: top;\n",
       "    }\n",
       "\n",
       "    .dataframe thead th {\n",
       "        text-align: right;\n",
       "    }\n",
       "</style>\n",
       "<table border=\"1\" class=\"dataframe\">\n",
       "  <thead>\n",
       "    <tr style=\"text-align: right;\">\n",
       "      <th></th>\n",
       "      <th>Tema</th>\n",
       "      <th>Gêneros</th>\n",
       "      <th>Estúdio</th>\n",
       "      <th>Demografia</th>\n",
       "      <th>Origem</th>\n",
       "      <th>Episódios</th>\n",
       "      <th>Estréia</th>\n",
       "      <th>Horário exibido</th>\n",
       "      <th>Status</th>\n",
       "      <th>Classificação</th>\n",
       "      <th>Tipo</th>\n",
       "      <th>Título</th>\n",
       "      <th>Pontuação</th>\n",
       "    </tr>\n",
       "    <tr>\n",
       "      <th>Rank</th>\n",
       "      <th></th>\n",
       "      <th></th>\n",
       "      <th></th>\n",
       "      <th></th>\n",
       "      <th></th>\n",
       "      <th></th>\n",
       "      <th></th>\n",
       "      <th></th>\n",
       "      <th></th>\n",
       "      <th></th>\n",
       "      <th></th>\n",
       "      <th></th>\n",
       "      <th></th>\n",
       "    </tr>\n",
       "  </thead>\n",
       "  <tbody>\n",
       "    <tr>\n",
       "      <th>1</th>\n",
       "      <td>Military</td>\n",
       "      <td>Action, Adventure, Comedy, Drama, Fantasy</td>\n",
       "      <td>Bones</td>\n",
       "      <td>Shounen</td>\n",
       "      <td>Manga</td>\n",
       "      <td>64.0</td>\n",
       "      <td>Spring 2009</td>\n",
       "      <td>Sundays at 17:00 (JST)</td>\n",
       "      <td>Finished Airing</td>\n",
       "      <td>R - 17+ (violence &amp; profanity)</td>\n",
       "      <td>TV</td>\n",
       "      <td>Fullmetal Alchemist: Brotherhood</td>\n",
       "      <td>9.15</td>\n",
       "    </tr>\n",
       "    <tr>\n",
       "      <th>2</th>\n",
       "      <td>Military, Super Power</td>\n",
       "      <td>Action, Drama, Fantasy, Mystery</td>\n",
       "      <td>MAPPA</td>\n",
       "      <td>Shounen</td>\n",
       "      <td>Manga</td>\n",
       "      <td>12.0</td>\n",
       "      <td>Winter 2022</td>\n",
       "      <td>Mondays at 00:05 (JST)</td>\n",
       "      <td>Currently Airing</td>\n",
       "      <td>R - 17+ (violence &amp; profanity)</td>\n",
       "      <td>TV</td>\n",
       "      <td>Shingeki no Kyojin: The Final Season Part 2</td>\n",
       "      <td>9.13</td>\n",
       "    </tr>\n",
       "    <tr>\n",
       "      <th>3</th>\n",
       "      <td>Psychological</td>\n",
       "      <td>Drama, Sci-Fi, Suspense</td>\n",
       "      <td>White Fox</td>\n",
       "      <td>NaN</td>\n",
       "      <td>Visual novel</td>\n",
       "      <td>24.0</td>\n",
       "      <td>Spring 2011</td>\n",
       "      <td>Wednesdays at 02:05 (JST)</td>\n",
       "      <td>Finished Airing</td>\n",
       "      <td>PG-13 - Teens 13 or older</td>\n",
       "      <td>TV</td>\n",
       "      <td>Steins;Gate</td>\n",
       "      <td>9.09</td>\n",
       "    </tr>\n",
       "  </tbody>\n",
       "</table>\n",
       "</div>"
      ],
      "text/plain": [
       "                        Tema                                     Gêneros  \\\n",
       "Rank                                                                       \n",
       "1                   Military   Action, Adventure, Comedy, Drama, Fantasy   \n",
       "2      Military, Super Power             Action, Drama, Fantasy, Mystery   \n",
       "3              Psychological                     Drama, Sci-Fi, Suspense   \n",
       "\n",
       "        Estúdio Demografia        Origem  Episódios      Estréia  \\\n",
       "Rank                                                               \n",
       "1         Bones    Shounen         Manga       64.0  Spring 2009   \n",
       "2         MAPPA    Shounen         Manga       12.0  Winter 2022   \n",
       "3     White Fox        NaN  Visual novel       24.0  Spring 2011   \n",
       "\n",
       "                Horário exibido            Status  \\\n",
       "Rank                                                \n",
       "1        Sundays at 17:00 (JST)   Finished Airing   \n",
       "2        Mondays at 00:05 (JST)  Currently Airing   \n",
       "3     Wednesdays at 02:05 (JST)   Finished Airing   \n",
       "\n",
       "                       Classificação Tipo  \\\n",
       "Rank                                        \n",
       "1     R - 17+ (violence & profanity)   TV   \n",
       "2     R - 17+ (violence & profanity)   TV   \n",
       "3          PG-13 - Teens 13 or older   TV   \n",
       "\n",
       "                                           Título  Pontuação  \n",
       "Rank                                                          \n",
       "1                Fullmetal Alchemist: Brotherhood       9.15  \n",
       "2     Shingeki no Kyojin: The Final Season Part 2       9.13  \n",
       "3                                     Steins;Gate       9.09  "
      ]
     },
     "execution_count": 11,
     "metadata": {},
     "output_type": "execute_result"
    }
   ],
   "source": [
    "df = pd.read_excel('df.xlsx',index_col='Rank') #Carregando os dados salvos\n",
    "df.head(3)"
   ]
  },
  {
   "cell_type": "code",
   "execution_count": 3,
   "id": "e293dee3",
   "metadata": {
    "scrolled": false
   },
   "outputs": [
    {
     "data": {
      "text/plain": [
       "Tema               151\n",
       "Gêneros             11\n",
       "Estúdio              4\n",
       "Demografia         229\n",
       "Origem               4\n",
       "Episódios            7\n",
       "Estréia            207\n",
       "Horário exibido    207\n",
       "Status               4\n",
       "Classificação        4\n",
       "Tipo                 9\n",
       "Título               0\n",
       "Pontuação            0\n",
       "dtype: int64"
      ]
     },
     "execution_count": 3,
     "metadata": {},
     "output_type": "execute_result"
    }
   ],
   "source": [
    "df.isna().sum() # Mostra a quantidade da valores nulos por coluna"
   ]
  },
  {
   "cell_type": "markdown",
   "id": "0b981651",
   "metadata": {},
   "source": [
    "###### Os dados de temporada de estréia e horário exibido totalizam 207 nulos por coluna, sendo 41% do total de linhas, porém esses dados se referem a filmes que não possuem horário exibido fixo e estreiam a parte da temporada de animes. Já demografia e tema tem valores nulos recorrentes, principalmente pela falta de dados nas páginas por anime."
   ]
  },
  {
   "cell_type": "markdown",
   "id": "01025544",
   "metadata": {},
   "source": [
    "#### Tratando os dados nulos:"
   ]
  },
  {
   "cell_type": "code",
   "execution_count": 12,
   "id": "afff2e83",
   "metadata": {
    "scrolled": false
   },
   "outputs": [
    {
     "data": {
      "text/html": [
       "<div>\n",
       "<style scoped>\n",
       "    .dataframe tbody tr th:only-of-type {\n",
       "        vertical-align: middle;\n",
       "    }\n",
       "\n",
       "    .dataframe tbody tr th {\n",
       "        vertical-align: top;\n",
       "    }\n",
       "\n",
       "    .dataframe thead th {\n",
       "        text-align: right;\n",
       "    }\n",
       "</style>\n",
       "<table border=\"1\" class=\"dataframe\">\n",
       "  <thead>\n",
       "    <tr style=\"text-align: right;\">\n",
       "      <th></th>\n",
       "      <th>Tema</th>\n",
       "      <th>Gêneros</th>\n",
       "      <th>Estúdio</th>\n",
       "      <th>Demografia</th>\n",
       "      <th>Origem</th>\n",
       "      <th>Episódios</th>\n",
       "      <th>Estréia</th>\n",
       "      <th>Horário exibido</th>\n",
       "      <th>Status</th>\n",
       "      <th>Classificação</th>\n",
       "      <th>Tipo</th>\n",
       "      <th>Título</th>\n",
       "      <th>Pontuação</th>\n",
       "    </tr>\n",
       "    <tr>\n",
       "      <th>Rank</th>\n",
       "      <th></th>\n",
       "      <th></th>\n",
       "      <th></th>\n",
       "      <th></th>\n",
       "      <th></th>\n",
       "      <th></th>\n",
       "      <th></th>\n",
       "      <th></th>\n",
       "      <th></th>\n",
       "      <th></th>\n",
       "      <th></th>\n",
       "      <th></th>\n",
       "      <th></th>\n",
       "    </tr>\n",
       "  </thead>\n",
       "  <tbody>\n",
       "    <tr>\n",
       "      <th>27</th>\n",
       "      <td>NaN</td>\n",
       "      <td>NaN</td>\n",
       "      <td>NaN</td>\n",
       "      <td>NaN</td>\n",
       "      <td>NaN</td>\n",
       "      <td>NaN</td>\n",
       "      <td>NaN</td>\n",
       "      <td>NaN</td>\n",
       "      <td>NaN</td>\n",
       "      <td>NaN</td>\n",
       "      <td>NaN</td>\n",
       "      <td>Gintama.: Shirogane no Tamashii-hen</td>\n",
       "      <td>8.82</td>\n",
       "    </tr>\n",
       "    <tr>\n",
       "      <th>89</th>\n",
       "      <td>NaN</td>\n",
       "      <td>NaN</td>\n",
       "      <td>NaN</td>\n",
       "      <td>NaN</td>\n",
       "      <td>NaN</td>\n",
       "      <td>NaN</td>\n",
       "      <td>NaN</td>\n",
       "      <td>NaN</td>\n",
       "      <td>NaN</td>\n",
       "      <td>NaN</td>\n",
       "      <td>NaN</td>\n",
       "      <td>JoJo no Kimyou na Bouken Part 6: Stone Ocean</td>\n",
       "      <td>8.55</td>\n",
       "    </tr>\n",
       "    <tr>\n",
       "      <th>97</th>\n",
       "      <td>NaN</td>\n",
       "      <td>NaN</td>\n",
       "      <td>NaN</td>\n",
       "      <td>NaN</td>\n",
       "      <td>NaN</td>\n",
       "      <td>NaN</td>\n",
       "      <td>NaN</td>\n",
       "      <td>NaN</td>\n",
       "      <td>NaN</td>\n",
       "      <td>NaN</td>\n",
       "      <td>NaN</td>\n",
       "      <td>Gintama.: Porori-hen</td>\n",
       "      <td>8.53</td>\n",
       "    </tr>\n",
       "    <tr>\n",
       "      <th>292</th>\n",
       "      <td>NaN</td>\n",
       "      <td>NaN</td>\n",
       "      <td>NaN</td>\n",
       "      <td>NaN</td>\n",
       "      <td>NaN</td>\n",
       "      <td>NaN</td>\n",
       "      <td>NaN</td>\n",
       "      <td>NaN</td>\n",
       "      <td>NaN</td>\n",
       "      <td>NaN</td>\n",
       "      <td>NaN</td>\n",
       "      <td>One Piece Movie 14: Stampede</td>\n",
       "      <td>8.23</td>\n",
       "    </tr>\n",
       "  </tbody>\n",
       "</table>\n",
       "</div>"
      ],
      "text/plain": [
       "     Tema Gêneros Estúdio Demografia Origem  Episódios Estréia  \\\n",
       "Rank                                                             \n",
       "27    NaN     NaN     NaN        NaN    NaN        NaN     NaN   \n",
       "89    NaN     NaN     NaN        NaN    NaN        NaN     NaN   \n",
       "97    NaN     NaN     NaN        NaN    NaN        NaN     NaN   \n",
       "292   NaN     NaN     NaN        NaN    NaN        NaN     NaN   \n",
       "\n",
       "     Horário exibido Status Classificação Tipo  \\\n",
       "Rank                                             \n",
       "27               NaN    NaN           NaN  NaN   \n",
       "89               NaN    NaN           NaN  NaN   \n",
       "97               NaN    NaN           NaN  NaN   \n",
       "292              NaN    NaN           NaN  NaN   \n",
       "\n",
       "                                            Título  Pontuação  \n",
       "Rank                                                           \n",
       "27             Gintama.: Shirogane no Tamashii-hen       8.82  \n",
       "89    JoJo no Kimyou na Bouken Part 6: Stone Ocean       8.55  \n",
       "97                            Gintama.: Porori-hen       8.53  \n",
       "292                   One Piece Movie 14: Stampede       8.23  "
      ]
     },
     "metadata": {},
     "output_type": "display_data"
    }
   ],
   "source": [
    "nulos = df.loc[df['Estúdio'].isna() == True] # localizando os valores nulos recorrentes em mais de uma coluna\n",
    "display(nulos)\n",
    "\n",
    "df.drop([27,89,97,292],axis=0,inplace=True) # Retirando as linhas nulas por index"
   ]
  },
  {
   "cell_type": "code",
   "execution_count": 13,
   "id": "e11b7845",
   "metadata": {},
   "outputs": [
    {
     "data": {
      "text/html": [
       "<div>\n",
       "<style scoped>\n",
       "    .dataframe tbody tr th:only-of-type {\n",
       "        vertical-align: middle;\n",
       "    }\n",
       "\n",
       "    .dataframe tbody tr th {\n",
       "        vertical-align: top;\n",
       "    }\n",
       "\n",
       "    .dataframe thead th {\n",
       "        text-align: right;\n",
       "    }\n",
       "</style>\n",
       "<table border=\"1\" class=\"dataframe\">\n",
       "  <thead>\n",
       "    <tr style=\"text-align: right;\">\n",
       "      <th></th>\n",
       "      <th>Tema</th>\n",
       "      <th>Gêneros</th>\n",
       "      <th>Estúdio</th>\n",
       "      <th>Demografia</th>\n",
       "      <th>Origem</th>\n",
       "      <th>Episódios</th>\n",
       "      <th>Estréia</th>\n",
       "      <th>Horário exibido</th>\n",
       "      <th>Status</th>\n",
       "      <th>Classificação</th>\n",
       "      <th>Tipo</th>\n",
       "      <th>Título</th>\n",
       "      <th>Pontuação</th>\n",
       "    </tr>\n",
       "    <tr>\n",
       "      <th>Rank</th>\n",
       "      <th></th>\n",
       "      <th></th>\n",
       "      <th></th>\n",
       "      <th></th>\n",
       "      <th></th>\n",
       "      <th></th>\n",
       "      <th></th>\n",
       "      <th></th>\n",
       "      <th></th>\n",
       "      <th></th>\n",
       "      <th></th>\n",
       "      <th></th>\n",
       "      <th></th>\n",
       "    </tr>\n",
       "  </thead>\n",
       "  <tbody>\n",
       "    <tr>\n",
       "      <th>181</th>\n",
       "      <td>Music</td>\n",
       "      <td>NaN</td>\n",
       "      <td>add some</td>\n",
       "      <td>NaN</td>\n",
       "      <td>Other</td>\n",
       "      <td>1.0</td>\n",
       "      <td>NaN</td>\n",
       "      <td>NaN</td>\n",
       "      <td>Finished Airing</td>\n",
       "      <td>PG-13 - Teens 13 or older</td>\n",
       "      <td>NaN</td>\n",
       "      <td>Yoru Ni Kakeru</td>\n",
       "      <td>8.36</td>\n",
       "    </tr>\n",
       "    <tr>\n",
       "      <th>183</th>\n",
       "      <td>Music</td>\n",
       "      <td>Fantasy</td>\n",
       "      <td>Bones</td>\n",
       "      <td>NaN</td>\n",
       "      <td>Game</td>\n",
       "      <td>1.0</td>\n",
       "      <td>NaN</td>\n",
       "      <td>NaN</td>\n",
       "      <td>Finished Airing</td>\n",
       "      <td>PG - Children</td>\n",
       "      <td>NaN</td>\n",
       "      <td>Gotcha!</td>\n",
       "      <td>8.36</td>\n",
       "    </tr>\n",
       "    <tr>\n",
       "      <th>223</th>\n",
       "      <td>Music</td>\n",
       "      <td>NaN</td>\n",
       "      <td>add some</td>\n",
       "      <td>NaN</td>\n",
       "      <td>Music</td>\n",
       "      <td>1.0</td>\n",
       "      <td>NaN</td>\n",
       "      <td>NaN</td>\n",
       "      <td>Finished Airing</td>\n",
       "      <td>PG-13 - Teens 13 or older</td>\n",
       "      <td>NaN</td>\n",
       "      <td>Kawaki wo Ameku</td>\n",
       "      <td>8.31</td>\n",
       "    </tr>\n",
       "    <tr>\n",
       "      <th>226</th>\n",
       "      <td>Music</td>\n",
       "      <td>Sci-Fi</td>\n",
       "      <td>A-1 Pictures</td>\n",
       "      <td>NaN</td>\n",
       "      <td>Music</td>\n",
       "      <td>1.0</td>\n",
       "      <td>NaN</td>\n",
       "      <td>NaN</td>\n",
       "      <td>Finished Airing</td>\n",
       "      <td>G - All Ages</td>\n",
       "      <td>NaN</td>\n",
       "      <td>Shelter (Music)</td>\n",
       "      <td>8.31</td>\n",
       "    </tr>\n",
       "    <tr>\n",
       "      <th>387</th>\n",
       "      <td>Music</td>\n",
       "      <td>Adventure, Drama, Sci-Fi</td>\n",
       "      <td>Toei Animation</td>\n",
       "      <td>NaN</td>\n",
       "      <td>Music</td>\n",
       "      <td>1.0</td>\n",
       "      <td>NaN</td>\n",
       "      <td>NaN</td>\n",
       "      <td>Finished Airing</td>\n",
       "      <td>G - All Ages</td>\n",
       "      <td>NaN</td>\n",
       "      <td>Interstella5555: The 5tory of The 5ecret 5tar ...</td>\n",
       "      <td>8.14</td>\n",
       "    </tr>\n",
       "  </tbody>\n",
       "</table>\n",
       "</div>"
      ],
      "text/plain": [
       "       Tema                    Gêneros         Estúdio Demografia Origem  \\\n",
       "Rank                                                                       \n",
       "181   Music                        NaN        add some        NaN  Other   \n",
       "183   Music                    Fantasy           Bones        NaN   Game   \n",
       "223   Music                        NaN        add some        NaN  Music   \n",
       "226   Music                     Sci-Fi    A-1 Pictures        NaN  Music   \n",
       "387   Music   Adventure, Drama, Sci-Fi  Toei Animation        NaN  Music   \n",
       "\n",
       "      Episódios Estréia Horário exibido           Status  \\\n",
       "Rank                                                       \n",
       "181         1.0     NaN             NaN  Finished Airing   \n",
       "183         1.0     NaN             NaN  Finished Airing   \n",
       "223         1.0     NaN             NaN  Finished Airing   \n",
       "226         1.0     NaN             NaN  Finished Airing   \n",
       "387         1.0     NaN             NaN  Finished Airing   \n",
       "\n",
       "                  Classificação Tipo  \\\n",
       "Rank                                   \n",
       "181   PG-13 - Teens 13 or older  NaN   \n",
       "183               PG - Children  NaN   \n",
       "223   PG-13 - Teens 13 or older  NaN   \n",
       "226                G - All Ages  NaN   \n",
       "387                G - All Ages  NaN   \n",
       "\n",
       "                                                 Título  Pontuação  \n",
       "Rank                                                                \n",
       "181                                      Yoru Ni Kakeru       8.36  \n",
       "183                                             Gotcha!       8.36  \n",
       "223                                     Kawaki wo Ameku       8.31  \n",
       "226                                     Shelter (Music)       8.31  \n",
       "387   Interstella5555: The 5tory of The 5ecret 5tar ...       8.14  "
      ]
     },
     "metadata": {},
     "output_type": "display_data"
    }
   ],
   "source": [
    "nulos2 = df.loc[df['Tipo'].isna() == True] \n",
    "display(nulos2)\n",
    "\n",
    "df.drop([181,183,223,226,387],axis=0,inplace=True) # Foram retirados por serem músicas"
   ]
  },
  {
   "cell_type": "code",
   "execution_count": 14,
   "id": "66084c1d",
   "metadata": {},
   "outputs": [
    {
     "data": {
      "text/html": [
       "<div>\n",
       "<style scoped>\n",
       "    .dataframe tbody tr th:only-of-type {\n",
       "        vertical-align: middle;\n",
       "    }\n",
       "\n",
       "    .dataframe tbody tr th {\n",
       "        vertical-align: top;\n",
       "    }\n",
       "\n",
       "    .dataframe thead th {\n",
       "        text-align: right;\n",
       "    }\n",
       "</style>\n",
       "<table border=\"1\" class=\"dataframe\">\n",
       "  <thead>\n",
       "    <tr style=\"text-align: right;\">\n",
       "      <th></th>\n",
       "      <th>Tema</th>\n",
       "      <th>Gêneros</th>\n",
       "      <th>Estúdio</th>\n",
       "      <th>Demografia</th>\n",
       "      <th>Origem</th>\n",
       "      <th>Episódios</th>\n",
       "      <th>Estréia</th>\n",
       "      <th>Horário exibido</th>\n",
       "      <th>Status</th>\n",
       "      <th>Classificação</th>\n",
       "      <th>Tipo</th>\n",
       "      <th>Título</th>\n",
       "      <th>Pontuação</th>\n",
       "    </tr>\n",
       "    <tr>\n",
       "      <th>Rank</th>\n",
       "      <th></th>\n",
       "      <th></th>\n",
       "      <th></th>\n",
       "      <th></th>\n",
       "      <th></th>\n",
       "      <th></th>\n",
       "      <th></th>\n",
       "      <th></th>\n",
       "      <th></th>\n",
       "      <th></th>\n",
       "      <th></th>\n",
       "      <th></th>\n",
       "      <th></th>\n",
       "    </tr>\n",
       "  </thead>\n",
       "  <tbody>\n",
       "    <tr>\n",
       "      <th>68</th>\n",
       "      <td>Super Power</td>\n",
       "      <td>Action, Adventure, Comedy, Drama, Fantasy</td>\n",
       "      <td>Toei Animation</td>\n",
       "      <td>Shounen</td>\n",
       "      <td>Manga</td>\n",
       "      <td>NaN</td>\n",
       "      <td>Fall 1999</td>\n",
       "      <td>Sundays at 09:30 (JST)</td>\n",
       "      <td>Currently Airing</td>\n",
       "      <td>PG-13 - Teens 13 or older</td>\n",
       "      <td>TV</td>\n",
       "      <td>One Piece</td>\n",
       "      <td>8.62</td>\n",
       "    </tr>\n",
       "    <tr>\n",
       "      <th>151</th>\n",
       "      <td>NaN</td>\n",
       "      <td>Comedy</td>\n",
       "      <td>Hololive Production</td>\n",
       "      <td>NaN</td>\n",
       "      <td>Other</td>\n",
       "      <td>NaN</td>\n",
       "      <td>NaN</td>\n",
       "      <td>NaN</td>\n",
       "      <td>Currently Airing</td>\n",
       "      <td>PG-13 - Teens 13 or older</td>\n",
       "      <td>ONA</td>\n",
       "      <td>Holo no Graffiti</td>\n",
       "      <td>8.41</td>\n",
       "    </tr>\n",
       "    <tr>\n",
       "      <th>366</th>\n",
       "      <td>Police</td>\n",
       "      <td>Adventure, Comedy, Mystery</td>\n",
       "      <td>TMS Entertainment</td>\n",
       "      <td>Shounen</td>\n",
       "      <td>Manga</td>\n",
       "      <td>NaN</td>\n",
       "      <td>Winter 1996</td>\n",
       "      <td>Saturdays at 18:00 (JST)</td>\n",
       "      <td>Currently Airing</td>\n",
       "      <td>PG-13 - Teens 13 or older</td>\n",
       "      <td>TV</td>\n",
       "      <td>Detective Conan</td>\n",
       "      <td>8.16</td>\n",
       "    </tr>\n",
       "  </tbody>\n",
       "</table>\n",
       "</div>"
      ],
      "text/plain": [
       "             Tema                                     Gêneros  \\\n",
       "Rank                                                            \n",
       "68    Super Power   Action, Adventure, Comedy, Drama, Fantasy   \n",
       "151           NaN                                      Comedy   \n",
       "366        Police                  Adventure, Comedy, Mystery   \n",
       "\n",
       "                  Estúdio Demografia Origem  Episódios      Estréia  \\\n",
       "Rank                                                                  \n",
       "68         Toei Animation    Shounen  Manga        NaN    Fall 1999   \n",
       "151   Hololive Production        NaN  Other        NaN          NaN   \n",
       "366     TMS Entertainment    Shounen  Manga        NaN  Winter 1996   \n",
       "\n",
       "               Horário exibido            Status              Classificação  \\\n",
       "Rank                                                                          \n",
       "68      Sundays at 09:30 (JST)  Currently Airing  PG-13 - Teens 13 or older   \n",
       "151                        NaN  Currently Airing  PG-13 - Teens 13 or older   \n",
       "366   Saturdays at 18:00 (JST)  Currently Airing  PG-13 - Teens 13 or older   \n",
       "\n",
       "     Tipo            Título  Pontuação  \n",
       "Rank                                    \n",
       "68     TV         One Piece       8.62  \n",
       "151   ONA  Holo no Graffiti       8.41  \n",
       "366    TV   Detective Conan       8.16  "
      ]
     },
     "metadata": {},
     "output_type": "display_data"
    }
   ],
   "source": [
    "nulos3 = df.loc[df['Episódios'].isna() == True]\n",
    "display(nulos3)\n",
    "\n",
    "df.drop(151,axis=0,inplace=True)\n",
    "\n",
    "df.loc[68,'Episódios'] = 1013 #Colocando os valores manualmente \n",
    "df.loc[366, 'Episódios'] = 123"
   ]
  },
  {
   "cell_type": "code",
   "execution_count": 15,
   "id": "41ef0445",
   "metadata": {},
   "outputs": [
    {
     "data": {
      "text/html": [
       "<div>\n",
       "<style scoped>\n",
       "    .dataframe tbody tr th:only-of-type {\n",
       "        vertical-align: middle;\n",
       "    }\n",
       "\n",
       "    .dataframe tbody tr th {\n",
       "        vertical-align: top;\n",
       "    }\n",
       "\n",
       "    .dataframe thead th {\n",
       "        text-align: right;\n",
       "    }\n",
       "</style>\n",
       "<table border=\"1\" class=\"dataframe\">\n",
       "  <thead>\n",
       "    <tr style=\"text-align: right;\">\n",
       "      <th></th>\n",
       "      <th>Tema</th>\n",
       "      <th>Gêneros</th>\n",
       "      <th>Estúdio</th>\n",
       "      <th>Demografia</th>\n",
       "      <th>Origem</th>\n",
       "      <th>Episódios</th>\n",
       "      <th>Estréia</th>\n",
       "      <th>Horário exibido</th>\n",
       "      <th>Status</th>\n",
       "      <th>Classificação</th>\n",
       "      <th>Tipo</th>\n",
       "      <th>Título</th>\n",
       "      <th>Pontuação</th>\n",
       "    </tr>\n",
       "    <tr>\n",
       "      <th>Rank</th>\n",
       "      <th></th>\n",
       "      <th></th>\n",
       "      <th></th>\n",
       "      <th></th>\n",
       "      <th></th>\n",
       "      <th></th>\n",
       "      <th></th>\n",
       "      <th></th>\n",
       "      <th></th>\n",
       "      <th></th>\n",
       "      <th></th>\n",
       "      <th></th>\n",
       "      <th></th>\n",
       "    </tr>\n",
       "  </thead>\n",
       "  <tbody>\n",
       "    <tr>\n",
       "      <th>176</th>\n",
       "      <td>Vampire</td>\n",
       "      <td>NaN</td>\n",
       "      <td>Shaft</td>\n",
       "      <td>NaN</td>\n",
       "      <td>Light novel</td>\n",
       "      <td>1.0</td>\n",
       "      <td>NaN</td>\n",
       "      <td>NaN</td>\n",
       "      <td>Finished Airing</td>\n",
       "      <td>R - 17+ (violence &amp; profanity)</td>\n",
       "      <td>Movie</td>\n",
       "      <td>Kizumonogatari I: Tekketsu-hen</td>\n",
       "      <td>8.38</td>\n",
       "    </tr>\n",
       "    <tr>\n",
       "      <th>191</th>\n",
       "      <td>Music, School</td>\n",
       "      <td>NaN</td>\n",
       "      <td>Kinema Citrus</td>\n",
       "      <td>NaN</td>\n",
       "      <td>Original</td>\n",
       "      <td>1.0</td>\n",
       "      <td>NaN</td>\n",
       "      <td>NaN</td>\n",
       "      <td>Finished Airing</td>\n",
       "      <td>PG-13 - Teens 13 or older</td>\n",
       "      <td>Movie</td>\n",
       "      <td>Shoujo☆Kageki Revue Starlight Movie</td>\n",
       "      <td>8.35</td>\n",
       "    </tr>\n",
       "    <tr>\n",
       "      <th>349</th>\n",
       "      <td>Military, School</td>\n",
       "      <td>NaN</td>\n",
       "      <td>Actas</td>\n",
       "      <td>NaN</td>\n",
       "      <td>Original</td>\n",
       "      <td>1.0</td>\n",
       "      <td>NaN</td>\n",
       "      <td>NaN</td>\n",
       "      <td>Finished Airing</td>\n",
       "      <td>PG-13 - Teens 13 or older</td>\n",
       "      <td>Movie</td>\n",
       "      <td>Girls &amp; Panzer: Saishuushou Part 3</td>\n",
       "      <td>8.18</td>\n",
       "    </tr>\n",
       "    <tr>\n",
       "      <th>464</th>\n",
       "      <td>Music</td>\n",
       "      <td>NaN</td>\n",
       "      <td>Hololive Production</td>\n",
       "      <td>NaN</td>\n",
       "      <td>Other</td>\n",
       "      <td>1.0</td>\n",
       "      <td>NaN</td>\n",
       "      <td>NaN</td>\n",
       "      <td>Finished Airing</td>\n",
       "      <td>G - All Ages</td>\n",
       "      <td>ONA</td>\n",
       "      <td>Hololive Alternative</td>\n",
       "      <td>8.08</td>\n",
       "    </tr>\n",
       "    <tr>\n",
       "      <th>475</th>\n",
       "      <td>Military, School</td>\n",
       "      <td>NaN</td>\n",
       "      <td>Actas</td>\n",
       "      <td>NaN</td>\n",
       "      <td>Original</td>\n",
       "      <td>1.0</td>\n",
       "      <td>NaN</td>\n",
       "      <td>NaN</td>\n",
       "      <td>Finished Airing</td>\n",
       "      <td>PG-13 - Teens 13 or older</td>\n",
       "      <td>Movie</td>\n",
       "      <td>Girls &amp; Panzer: Saishuushou Part 2</td>\n",
       "      <td>8.07</td>\n",
       "    </tr>\n",
       "  </tbody>\n",
       "</table>\n",
       "</div>"
      ],
      "text/plain": [
       "                   Tema Gêneros              Estúdio Demografia       Origem  \\\n",
       "Rank                                                                           \n",
       "176             Vampire     NaN                Shaft        NaN  Light novel   \n",
       "191       Music, School     NaN        Kinema Citrus        NaN     Original   \n",
       "349    Military, School     NaN                Actas        NaN     Original   \n",
       "464               Music     NaN  Hololive Production        NaN        Other   \n",
       "475    Military, School     NaN                Actas        NaN     Original   \n",
       "\n",
       "      Episódios Estréia Horário exibido           Status  \\\n",
       "Rank                                                       \n",
       "176         1.0     NaN             NaN  Finished Airing   \n",
       "191         1.0     NaN             NaN  Finished Airing   \n",
       "349         1.0     NaN             NaN  Finished Airing   \n",
       "464         1.0     NaN             NaN  Finished Airing   \n",
       "475         1.0     NaN             NaN  Finished Airing   \n",
       "\n",
       "                       Classificação   Tipo  \\\n",
       "Rank                                          \n",
       "176   R - 17+ (violence & profanity)  Movie   \n",
       "191        PG-13 - Teens 13 or older  Movie   \n",
       "349        PG-13 - Teens 13 or older  Movie   \n",
       "464                     G - All Ages    ONA   \n",
       "475        PG-13 - Teens 13 or older  Movie   \n",
       "\n",
       "                                   Título  Pontuação  \n",
       "Rank                                                  \n",
       "176        Kizumonogatari I: Tekketsu-hen       8.38  \n",
       "191   Shoujo☆Kageki Revue Starlight Movie       8.35  \n",
       "349    Girls & Panzer: Saishuushou Part 3       8.18  \n",
       "464                  Hololive Alternative       8.08  \n",
       "475    Girls & Panzer: Saishuushou Part 2       8.07  "
      ]
     },
     "metadata": {},
     "output_type": "display_data"
    }
   ],
   "source": [
    "nulos4 = df.loc[df['Gêneros'].isna() == True]\n",
    "display(nulos4)\n",
    "\n",
    "df.drop([176,191,349,464,475],axis=0,inplace=True)"
   ]
  },
  {
   "cell_type": "code",
   "execution_count": 26,
   "id": "77a19216",
   "metadata": {
    "scrolled": true
   },
   "outputs": [
    {
     "data": {
      "text/plain": [
       "Tema               146\n",
       "Gêneros              0\n",
       "Estúdio              0\n",
       "Demografia         214\n",
       "Origem               0\n",
       "Episódios            0\n",
       "Estréia            192\n",
       "Horário exibido    192\n",
       "Status               0\n",
       "Classificação        0\n",
       "Tipo                 0\n",
       "Título               0\n",
       "Pontuação            0\n",
       "dtype: int64"
      ]
     },
     "metadata": {},
     "output_type": "display_data"
    }
   ],
   "source": [
    "nulos5 = df.isna().sum() # Quantidade de nulos após o tratamento\n",
    "display(nulos5)\n",
    "\n",
    "df.to_excel('df_limpo.xlsx') #Salvando o novo DF"
   ]
  },
  {
   "cell_type": "markdown",
   "id": "0710f5ad",
   "metadata": {},
   "source": [
    "#### Carregando o dataframe atualizado:"
   ]
  },
  {
   "cell_type": "code",
   "execution_count": 139,
   "id": "27e85416",
   "metadata": {
    "scrolled": true
   },
   "outputs": [
    {
     "data": {
      "text/html": [
       "<div>\n",
       "<style scoped>\n",
       "    .dataframe tbody tr th:only-of-type {\n",
       "        vertical-align: middle;\n",
       "    }\n",
       "\n",
       "    .dataframe tbody tr th {\n",
       "        vertical-align: top;\n",
       "    }\n",
       "\n",
       "    .dataframe thead th {\n",
       "        text-align: right;\n",
       "    }\n",
       "</style>\n",
       "<table border=\"1\" class=\"dataframe\">\n",
       "  <thead>\n",
       "    <tr style=\"text-align: right;\">\n",
       "      <th></th>\n",
       "      <th>Tema</th>\n",
       "      <th>Gêneros</th>\n",
       "      <th>Estúdio</th>\n",
       "      <th>Demografia</th>\n",
       "      <th>Origem</th>\n",
       "      <th>Episódios</th>\n",
       "      <th>Estréia</th>\n",
       "      <th>Horário exibido</th>\n",
       "      <th>Status</th>\n",
       "      <th>Classificação</th>\n",
       "      <th>Tipo</th>\n",
       "      <th>Título</th>\n",
       "      <th>Pontuação</th>\n",
       "    </tr>\n",
       "    <tr>\n",
       "      <th>Rank</th>\n",
       "      <th></th>\n",
       "      <th></th>\n",
       "      <th></th>\n",
       "      <th></th>\n",
       "      <th></th>\n",
       "      <th></th>\n",
       "      <th></th>\n",
       "      <th></th>\n",
       "      <th></th>\n",
       "      <th></th>\n",
       "      <th></th>\n",
       "      <th></th>\n",
       "      <th></th>\n",
       "    </tr>\n",
       "  </thead>\n",
       "  <tbody>\n",
       "    <tr>\n",
       "      <th>1</th>\n",
       "      <td>Military</td>\n",
       "      <td>Action, Adventure, Comedy, Drama, Fantasy</td>\n",
       "      <td>Bones</td>\n",
       "      <td>Shounen</td>\n",
       "      <td>Manga</td>\n",
       "      <td>64</td>\n",
       "      <td>Spring 2009</td>\n",
       "      <td>Sundays at 17:00 (JST)</td>\n",
       "      <td>Finished Airing</td>\n",
       "      <td>R - 17+ (violence &amp; profanity)</td>\n",
       "      <td>TV</td>\n",
       "      <td>Fullmetal Alchemist: Brotherhood</td>\n",
       "      <td>9.15</td>\n",
       "    </tr>\n",
       "    <tr>\n",
       "      <th>2</th>\n",
       "      <td>Military, Super Power</td>\n",
       "      <td>Action, Drama, Fantasy, Mystery</td>\n",
       "      <td>MAPPA</td>\n",
       "      <td>Shounen</td>\n",
       "      <td>Manga</td>\n",
       "      <td>12</td>\n",
       "      <td>Winter 2022</td>\n",
       "      <td>Mondays at 00:05 (JST)</td>\n",
       "      <td>Currently Airing</td>\n",
       "      <td>R - 17+ (violence &amp; profanity)</td>\n",
       "      <td>TV</td>\n",
       "      <td>Shingeki no Kyojin: The Final Season Part 2</td>\n",
       "      <td>9.13</td>\n",
       "    </tr>\n",
       "    <tr>\n",
       "      <th>3</th>\n",
       "      <td>Psychological</td>\n",
       "      <td>Drama, Sci-Fi, Suspense</td>\n",
       "      <td>White Fox</td>\n",
       "      <td>NaN</td>\n",
       "      <td>Visual novel</td>\n",
       "      <td>24</td>\n",
       "      <td>Spring 2011</td>\n",
       "      <td>Wednesdays at 02:05 (JST)</td>\n",
       "      <td>Finished Airing</td>\n",
       "      <td>PG-13 - Teens 13 or older</td>\n",
       "      <td>TV</td>\n",
       "      <td>Steins;Gate</td>\n",
       "      <td>9.09</td>\n",
       "    </tr>\n",
       "    <tr>\n",
       "      <th>4</th>\n",
       "      <td>Historical, Parody, Samurai</td>\n",
       "      <td>Action, Comedy, Sci-Fi</td>\n",
       "      <td>Bandai Namco Pictures</td>\n",
       "      <td>Shounen</td>\n",
       "      <td>Manga</td>\n",
       "      <td>51</td>\n",
       "      <td>Spring 2015</td>\n",
       "      <td>Wednesdays at 18:00 (JST)</td>\n",
       "      <td>Finished Airing</td>\n",
       "      <td>PG-13 - Teens 13 or older</td>\n",
       "      <td>TV</td>\n",
       "      <td>Gintama°</td>\n",
       "      <td>9.09</td>\n",
       "    </tr>\n",
       "    <tr>\n",
       "      <th>5</th>\n",
       "      <td>Military, Super Power</td>\n",
       "      <td>Action, Drama, Fantasy, Mystery</td>\n",
       "      <td>Wit Studio</td>\n",
       "      <td>Shounen</td>\n",
       "      <td>Manga</td>\n",
       "      <td>10</td>\n",
       "      <td>Spring 2019</td>\n",
       "      <td>Mondays at 00:10 (JST)</td>\n",
       "      <td>Finished Airing</td>\n",
       "      <td>R - 17+ (violence &amp; profanity)</td>\n",
       "      <td>TV</td>\n",
       "      <td>Shingeki no Kyojin Season 3 Part 2</td>\n",
       "      <td>9.08</td>\n",
       "    </tr>\n",
       "  </tbody>\n",
       "</table>\n",
       "</div>"
      ],
      "text/plain": [
       "                              Tema  \\\n",
       "Rank                                 \n",
       "1                         Military   \n",
       "2            Military, Super Power   \n",
       "3                    Psychological   \n",
       "4      Historical, Parody, Samurai   \n",
       "5            Military, Super Power   \n",
       "\n",
       "                                         Gêneros                Estúdio  \\\n",
       "Rank                                                                      \n",
       "1      Action, Adventure, Comedy, Drama, Fantasy                  Bones   \n",
       "2                Action, Drama, Fantasy, Mystery                  MAPPA   \n",
       "3                        Drama, Sci-Fi, Suspense              White Fox   \n",
       "4                         Action, Comedy, Sci-Fi  Bandai Namco Pictures   \n",
       "5                Action, Drama, Fantasy, Mystery             Wit Studio   \n",
       "\n",
       "     Demografia        Origem  Episódios      Estréia  \\\n",
       "Rank                                                    \n",
       "1       Shounen         Manga         64  Spring 2009   \n",
       "2       Shounen         Manga         12  Winter 2022   \n",
       "3           NaN  Visual novel         24  Spring 2011   \n",
       "4       Shounen         Manga         51  Spring 2015   \n",
       "5       Shounen         Manga         10  Spring 2019   \n",
       "\n",
       "                Horário exibido            Status  \\\n",
       "Rank                                                \n",
       "1        Sundays at 17:00 (JST)   Finished Airing   \n",
       "2        Mondays at 00:05 (JST)  Currently Airing   \n",
       "3     Wednesdays at 02:05 (JST)   Finished Airing   \n",
       "4     Wednesdays at 18:00 (JST)   Finished Airing   \n",
       "5        Mondays at 00:10 (JST)   Finished Airing   \n",
       "\n",
       "                       Classificação Tipo  \\\n",
       "Rank                                        \n",
       "1     R - 17+ (violence & profanity)   TV   \n",
       "2     R - 17+ (violence & profanity)   TV   \n",
       "3          PG-13 - Teens 13 or older   TV   \n",
       "4          PG-13 - Teens 13 or older   TV   \n",
       "5     R - 17+ (violence & profanity)   TV   \n",
       "\n",
       "                                           Título  Pontuação  \n",
       "Rank                                                          \n",
       "1                Fullmetal Alchemist: Brotherhood       9.15  \n",
       "2     Shingeki no Kyojin: The Final Season Part 2       9.13  \n",
       "3                                     Steins;Gate       9.09  \n",
       "4                                        Gintama°       9.09  \n",
       "5              Shingeki no Kyojin Season 3 Part 2       9.08  "
      ]
     },
     "metadata": {},
     "output_type": "display_data"
    }
   ],
   "source": [
    "df_limpo = pd.read_excel('df_limpo.xlsx',index_col='Rank')\n",
    "display(df_limpo.head())"
   ]
  }
 ],
 "metadata": {
  "kernelspec": {
   "display_name": "Python 3 (ipykernel)",
   "language": "python",
   "name": "python3"
  },
  "language_info": {
   "codemirror_mode": {
    "name": "ipython",
    "version": 3
   },
   "file_extension": ".py",
   "mimetype": "text/x-python",
   "name": "python",
   "nbconvert_exporter": "python",
   "pygments_lexer": "ipython3",
   "version": "3.9.7"
  }
 },
 "nbformat": 4,
 "nbformat_minor": 5
}
